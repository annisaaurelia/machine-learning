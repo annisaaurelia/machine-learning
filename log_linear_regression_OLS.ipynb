{
 "cells": [
  {
   "cell_type": "markdown",
   "metadata": {
    "id": "Ag2lT9OHPd_3"
   },
   "source": [
    "# Import Library"
   ]
  },
  {
   "cell_type": "code",
   "execution_count": 18,
   "metadata": {
    "executionInfo": {
     "elapsed": 2162,
     "status": "ok",
     "timestamp": 1605144732959,
     "user": {
      "displayName": "Annisa Aurelia Mufid",
      "photoUrl": "https://lh3.googleusercontent.com/a-/AOh14Gihrgggdy19je0wBpWLaurMrT-IWFqIBsQaTVGX=s64",
      "userId": "11156165881536976817"
     },
     "user_tz": -420
    },
    "id": "-HHgvKGaq5x9"
   },
   "outputs": [],
   "source": [
    "import pandas as pd\n",
    "import numpy as np\n",
    "from statsmodels.formula.api import ols\n",
    "import matplotlib.pyplot as plt\n",
    "pd.options.display.float_format = '{:,.2f}'.format"
   ]
  },
  {
   "cell_type": "markdown",
   "metadata": {
    "id": "qnWNFKctkq37"
   },
   "source": [
    "# OLS"
   ]
  },
  {
   "cell_type": "code",
   "execution_count": null,
   "metadata": {},
   "outputs": [],
   "source": [
    "# source https://medium.com/@adiptamartulandi/belajar-machine-learning-simple-linear-regression-di-python-e82972695eaf\n",
    "\n",
    "import pandas as pd\n",
    "import matplotlib.pyplot as plt\n",
    "from sklearn.linear_model import LinearRegression\n",
    "from sklearn.model_selection import train_test_split\n",
    "\n",
    "x = data[['var1','var2','var3','price']]\n",
    "y = data['demand']\n",
    "\n",
    "x_train, x_test, y_train, y_test = train_test_split(x, y, test_size=0.3)\n",
    "\n",
    "lin_reg = LinearRegression()\n",
    "lin_reg.fit(x_train, y_train)\n",
    "print(lin_reg.coef_)\n",
    "print(lin_reg.intercept_)\n",
    "print(lin_reg.score(x_test, y_test))\n",
    "\n",
    "reg3 = ols(\"np.log(demand) ~ np.log(price) + np.log(var1) + var2 + var3\", data = data).fit()\n",
    "print(reg3.summary())\n",
    "\n",
    "import pandas as pd\n",
    "#from pandas.tools import plotting\n",
    "import statsmodels.api as sm\n",
    "from statsmodels.formula.api import ols\n",
    "import matplotlib.pyplot as plt\n",
    "import seaborn\n",
    "\n",
    "# now we can produce a plot of residuals\n",
    "stdres = pd.DataFrame(reg3.resid_pearson)\n",
    "plt.plot(stdres, 'o', ls = 'None')\n",
    "l = plt.axhline(y=0, color = 'r')\n",
    " \n",
    "# there appears to be no pattern to the residuals, which is good\n"
   ]
  }
 ],
 "metadata": {
  "colab": {
   "authorship_tag": "ABX9TyOQeyFhdgWAx5NAGi8/eMEn",
   "collapsed_sections": [],
   "name": "cross_markup_elasticity_model3",
   "provenance": []
  },
  "kernelspec": {
   "display_name": "Python 3",
   "language": "python",
   "name": "python3"
  },
  "language_info": {
   "codemirror_mode": {
    "name": "ipython",
    "version": 3
   },
   "file_extension": ".py",
   "mimetype": "text/x-python",
   "name": "python",
   "nbconvert_exporter": "python",
   "pygments_lexer": "ipython3",
   "version": "3.7.6"
  }
 },
 "nbformat": 4,
 "nbformat_minor": 1
}
