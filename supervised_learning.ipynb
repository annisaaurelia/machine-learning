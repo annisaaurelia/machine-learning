{
  "cells": [
    {
      "cell_type": "code",
      "execution_count": null,
      "id": "c36b38b6-f298-4757-9264-2e9bd41f3e73",
      "metadata": {
        "id": "c36b38b6-f298-4757-9264-2e9bd41f3e73"
      },
      "outputs": [],
      "source": [
        "import pandas as pd\n",
        "import re\n",
        "import pickle"
      ]
    },
    {
      "cell_type": "markdown",
      "id": "66a7caec-49bd-4e32-bdea-a50351d8a17a",
      "metadata": {
        "id": "66a7caec-49bd-4e32-bdea-a50351d8a17a"
      },
      "source": [
        "# CLASSIFICATION"
      ]
    },
    {
      "cell_type": "markdown",
      "id": "d8078ba8-77a4-4203-a935-2efe5afac4be",
      "metadata": {
        "id": "d8078ba8-77a4-4203-a935-2efe5afac4be"
      },
      "source": [
        "## Prepare Dataset"
      ]
    },
    {
      "cell_type": "code",
      "execution_count": null,
      "id": "1cd523aa-2cf9-4508-a2ae-f965d930063a",
      "metadata": {
        "id": "1cd523aa-2cf9-4508-a2ae-f965d930063a",
        "outputId": "5a9a4e5e-87d6-41b0-98e4-9498ba0b38e9",
        "colab": {
          "base_uri": "https://localhost:8080/",
          "height": 424
        }
      },
      "outputs": [
        {
          "output_type": "execute_result",
          "data": {
            "text/plain": [
              "      id                                               text     label\n",
              "0    219  Nikmati cicilan 0% hingga 12 bulan untuk pemes...   neutral\n",
              "1    209  Kue-kue yang disajikan bikin saya bernostalgia...  positive\n",
              "2    436               Ibu pernah bekerja di grab indonesia   neutral\n",
              "3    394  Paling suka banget makan siang di sini ayam sa...  positive\n",
              "4    592                    Pelayanan bus DAMRI sangat baik  positive\n",
              "..   ...                                                ...       ...\n",
              "995  502  Saya sudah sering kali datang menikmati makana...  positive\n",
              "996  268  Banyak orang yang kurang suka untuk berobat ke...  negative\n",
              "997  282  Pelayanan baik, tempat parkir cukup luas, kebu...  positive\n",
              "998  407    Demi apa pun tes cpns bikin macet, sialannnnnnn  negative\n",
              "999  768  Menunggu makanannya lama banget, waitressnya g...  negative\n",
              "\n",
              "[1000 rows x 3 columns]"
            ],
            "text/html": [
              "\n",
              "  <div id=\"df-431663e5-f512-4d47-8548-3154d497ce33\" class=\"colab-df-container\">\n",
              "    <div>\n",
              "<style scoped>\n",
              "    .dataframe tbody tr th:only-of-type {\n",
              "        vertical-align: middle;\n",
              "    }\n",
              "\n",
              "    .dataframe tbody tr th {\n",
              "        vertical-align: top;\n",
              "    }\n",
              "\n",
              "    .dataframe thead th {\n",
              "        text-align: right;\n",
              "    }\n",
              "</style>\n",
              "<table border=\"1\" class=\"dataframe\">\n",
              "  <thead>\n",
              "    <tr style=\"text-align: right;\">\n",
              "      <th></th>\n",
              "      <th>id</th>\n",
              "      <th>text</th>\n",
              "      <th>label</th>\n",
              "    </tr>\n",
              "  </thead>\n",
              "  <tbody>\n",
              "    <tr>\n",
              "      <th>0</th>\n",
              "      <td>219</td>\n",
              "      <td>Nikmati cicilan 0% hingga 12 bulan untuk pemes...</td>\n",
              "      <td>neutral</td>\n",
              "    </tr>\n",
              "    <tr>\n",
              "      <th>1</th>\n",
              "      <td>209</td>\n",
              "      <td>Kue-kue yang disajikan bikin saya bernostalgia...</td>\n",
              "      <td>positive</td>\n",
              "    </tr>\n",
              "    <tr>\n",
              "      <th>2</th>\n",
              "      <td>436</td>\n",
              "      <td>Ibu pernah bekerja di grab indonesia</td>\n",
              "      <td>neutral</td>\n",
              "    </tr>\n",
              "    <tr>\n",
              "      <th>3</th>\n",
              "      <td>394</td>\n",
              "      <td>Paling suka banget makan siang di sini ayam sa...</td>\n",
              "      <td>positive</td>\n",
              "    </tr>\n",
              "    <tr>\n",
              "      <th>4</th>\n",
              "      <td>592</td>\n",
              "      <td>Pelayanan bus DAMRI sangat baik</td>\n",
              "      <td>positive</td>\n",
              "    </tr>\n",
              "    <tr>\n",
              "      <th>...</th>\n",
              "      <td>...</td>\n",
              "      <td>...</td>\n",
              "      <td>...</td>\n",
              "    </tr>\n",
              "    <tr>\n",
              "      <th>995</th>\n",
              "      <td>502</td>\n",
              "      <td>Saya sudah sering kali datang menikmati makana...</td>\n",
              "      <td>positive</td>\n",
              "    </tr>\n",
              "    <tr>\n",
              "      <th>996</th>\n",
              "      <td>268</td>\n",
              "      <td>Banyak orang yang kurang suka untuk berobat ke...</td>\n",
              "      <td>negative</td>\n",
              "    </tr>\n",
              "    <tr>\n",
              "      <th>997</th>\n",
              "      <td>282</td>\n",
              "      <td>Pelayanan baik, tempat parkir cukup luas, kebu...</td>\n",
              "      <td>positive</td>\n",
              "    </tr>\n",
              "    <tr>\n",
              "      <th>998</th>\n",
              "      <td>407</td>\n",
              "      <td>Demi apa pun tes cpns bikin macet, sialannnnnnn</td>\n",
              "      <td>negative</td>\n",
              "    </tr>\n",
              "    <tr>\n",
              "      <th>999</th>\n",
              "      <td>768</td>\n",
              "      <td>Menunggu makanannya lama banget, waitressnya g...</td>\n",
              "      <td>negative</td>\n",
              "    </tr>\n",
              "  </tbody>\n",
              "</table>\n",
              "<p>1000 rows × 3 columns</p>\n",
              "</div>\n",
              "    <div class=\"colab-df-buttons\">\n",
              "\n",
              "  <div class=\"colab-df-container\">\n",
              "    <button class=\"colab-df-convert\" onclick=\"convertToInteractive('df-431663e5-f512-4d47-8548-3154d497ce33')\"\n",
              "            title=\"Convert this dataframe to an interactive table.\"\n",
              "            style=\"display:none;\">\n",
              "\n",
              "  <svg xmlns=\"http://www.w3.org/2000/svg\" height=\"24px\" viewBox=\"0 -960 960 960\">\n",
              "    <path d=\"M120-120v-720h720v720H120Zm60-500h600v-160H180v160Zm220 220h160v-160H400v160Zm0 220h160v-160H400v160ZM180-400h160v-160H180v160Zm440 0h160v-160H620v160ZM180-180h160v-160H180v160Zm440 0h160v-160H620v160Z\"/>\n",
              "  </svg>\n",
              "    </button>\n",
              "\n",
              "  <style>\n",
              "    .colab-df-container {\n",
              "      display:flex;\n",
              "      gap: 12px;\n",
              "    }\n",
              "\n",
              "    .colab-df-convert {\n",
              "      background-color: #E8F0FE;\n",
              "      border: none;\n",
              "      border-radius: 50%;\n",
              "      cursor: pointer;\n",
              "      display: none;\n",
              "      fill: #1967D2;\n",
              "      height: 32px;\n",
              "      padding: 0 0 0 0;\n",
              "      width: 32px;\n",
              "    }\n",
              "\n",
              "    .colab-df-convert:hover {\n",
              "      background-color: #E2EBFA;\n",
              "      box-shadow: 0px 1px 2px rgba(60, 64, 67, 0.3), 0px 1px 3px 1px rgba(60, 64, 67, 0.15);\n",
              "      fill: #174EA6;\n",
              "    }\n",
              "\n",
              "    .colab-df-buttons div {\n",
              "      margin-bottom: 4px;\n",
              "    }\n",
              "\n",
              "    [theme=dark] .colab-df-convert {\n",
              "      background-color: #3B4455;\n",
              "      fill: #D2E3FC;\n",
              "    }\n",
              "\n",
              "    [theme=dark] .colab-df-convert:hover {\n",
              "      background-color: #434B5C;\n",
              "      box-shadow: 0px 1px 3px 1px rgba(0, 0, 0, 0.15);\n",
              "      filter: drop-shadow(0px 1px 2px rgba(0, 0, 0, 0.3));\n",
              "      fill: #FFFFFF;\n",
              "    }\n",
              "  </style>\n",
              "\n",
              "    <script>\n",
              "      const buttonEl =\n",
              "        document.querySelector('#df-431663e5-f512-4d47-8548-3154d497ce33 button.colab-df-convert');\n",
              "      buttonEl.style.display =\n",
              "        google.colab.kernel.accessAllowed ? 'block' : 'none';\n",
              "\n",
              "      async function convertToInteractive(key) {\n",
              "        const element = document.querySelector('#df-431663e5-f512-4d47-8548-3154d497ce33');\n",
              "        const dataTable =\n",
              "          await google.colab.kernel.invokeFunction('convertToInteractive',\n",
              "                                                    [key], {});\n",
              "        if (!dataTable) return;\n",
              "\n",
              "        const docLinkHtml = 'Like what you see? Visit the ' +\n",
              "          '<a target=\"_blank\" href=https://colab.research.google.com/notebooks/data_table.ipynb>data table notebook</a>'\n",
              "          + ' to learn more about interactive tables.';\n",
              "        element.innerHTML = '';\n",
              "        dataTable['output_type'] = 'display_data';\n",
              "        await google.colab.output.renderOutput(dataTable, element);\n",
              "        const docLink = document.createElement('div');\n",
              "        docLink.innerHTML = docLinkHtml;\n",
              "        element.appendChild(docLink);\n",
              "      }\n",
              "    </script>\n",
              "  </div>\n",
              "\n",
              "\n",
              "<div id=\"df-c34f815e-92c6-4b71-8616-2036000ceeda\">\n",
              "  <button class=\"colab-df-quickchart\" onclick=\"quickchart('df-c34f815e-92c6-4b71-8616-2036000ceeda')\"\n",
              "            title=\"Suggest charts\"\n",
              "            style=\"display:none;\">\n",
              "\n",
              "<svg xmlns=\"http://www.w3.org/2000/svg\" height=\"24px\"viewBox=\"0 0 24 24\"\n",
              "     width=\"24px\">\n",
              "    <g>\n",
              "        <path d=\"M19 3H5c-1.1 0-2 .9-2 2v14c0 1.1.9 2 2 2h14c1.1 0 2-.9 2-2V5c0-1.1-.9-2-2-2zM9 17H7v-7h2v7zm4 0h-2V7h2v10zm4 0h-2v-4h2v4z\"/>\n",
              "    </g>\n",
              "</svg>\n",
              "  </button>\n",
              "\n",
              "<style>\n",
              "  .colab-df-quickchart {\n",
              "      --bg-color: #E8F0FE;\n",
              "      --fill-color: #1967D2;\n",
              "      --hover-bg-color: #E2EBFA;\n",
              "      --hover-fill-color: #174EA6;\n",
              "      --disabled-fill-color: #AAA;\n",
              "      --disabled-bg-color: #DDD;\n",
              "  }\n",
              "\n",
              "  [theme=dark] .colab-df-quickchart {\n",
              "      --bg-color: #3B4455;\n",
              "      --fill-color: #D2E3FC;\n",
              "      --hover-bg-color: #434B5C;\n",
              "      --hover-fill-color: #FFFFFF;\n",
              "      --disabled-bg-color: #3B4455;\n",
              "      --disabled-fill-color: #666;\n",
              "  }\n",
              "\n",
              "  .colab-df-quickchart {\n",
              "    background-color: var(--bg-color);\n",
              "    border: none;\n",
              "    border-radius: 50%;\n",
              "    cursor: pointer;\n",
              "    display: none;\n",
              "    fill: var(--fill-color);\n",
              "    height: 32px;\n",
              "    padding: 0;\n",
              "    width: 32px;\n",
              "  }\n",
              "\n",
              "  .colab-df-quickchart:hover {\n",
              "    background-color: var(--hover-bg-color);\n",
              "    box-shadow: 0 1px 2px rgba(60, 64, 67, 0.3), 0 1px 3px 1px rgba(60, 64, 67, 0.15);\n",
              "    fill: var(--button-hover-fill-color);\n",
              "  }\n",
              "\n",
              "  .colab-df-quickchart-complete:disabled,\n",
              "  .colab-df-quickchart-complete:disabled:hover {\n",
              "    background-color: var(--disabled-bg-color);\n",
              "    fill: var(--disabled-fill-color);\n",
              "    box-shadow: none;\n",
              "  }\n",
              "\n",
              "  .colab-df-spinner {\n",
              "    border: 2px solid var(--fill-color);\n",
              "    border-color: transparent;\n",
              "    border-bottom-color: var(--fill-color);\n",
              "    animation:\n",
              "      spin 1s steps(1) infinite;\n",
              "  }\n",
              "\n",
              "  @keyframes spin {\n",
              "    0% {\n",
              "      border-color: transparent;\n",
              "      border-bottom-color: var(--fill-color);\n",
              "      border-left-color: var(--fill-color);\n",
              "    }\n",
              "    20% {\n",
              "      border-color: transparent;\n",
              "      border-left-color: var(--fill-color);\n",
              "      border-top-color: var(--fill-color);\n",
              "    }\n",
              "    30% {\n",
              "      border-color: transparent;\n",
              "      border-left-color: var(--fill-color);\n",
              "      border-top-color: var(--fill-color);\n",
              "      border-right-color: var(--fill-color);\n",
              "    }\n",
              "    40% {\n",
              "      border-color: transparent;\n",
              "      border-right-color: var(--fill-color);\n",
              "      border-top-color: var(--fill-color);\n",
              "    }\n",
              "    60% {\n",
              "      border-color: transparent;\n",
              "      border-right-color: var(--fill-color);\n",
              "    }\n",
              "    80% {\n",
              "      border-color: transparent;\n",
              "      border-right-color: var(--fill-color);\n",
              "      border-bottom-color: var(--fill-color);\n",
              "    }\n",
              "    90% {\n",
              "      border-color: transparent;\n",
              "      border-bottom-color: var(--fill-color);\n",
              "    }\n",
              "  }\n",
              "</style>\n",
              "\n",
              "  <script>\n",
              "    async function quickchart(key) {\n",
              "      const quickchartButtonEl =\n",
              "        document.querySelector('#' + key + ' button');\n",
              "      quickchartButtonEl.disabled = true;  // To prevent multiple clicks.\n",
              "      quickchartButtonEl.classList.add('colab-df-spinner');\n",
              "      try {\n",
              "        const charts = await google.colab.kernel.invokeFunction(\n",
              "            'suggestCharts', [key], {});\n",
              "      } catch (error) {\n",
              "        console.error('Error during call to suggestCharts:', error);\n",
              "      }\n",
              "      quickchartButtonEl.classList.remove('colab-df-spinner');\n",
              "      quickchartButtonEl.classList.add('colab-df-quickchart-complete');\n",
              "    }\n",
              "    (() => {\n",
              "      let quickchartButtonEl =\n",
              "        document.querySelector('#df-c34f815e-92c6-4b71-8616-2036000ceeda button');\n",
              "      quickchartButtonEl.style.display =\n",
              "        google.colab.kernel.accessAllowed ? 'block' : 'none';\n",
              "    })();\n",
              "  </script>\n",
              "</div>\n",
              "    </div>\n",
              "  </div>\n"
            ]
          },
          "metadata": {},
          "execution_count": 3
        }
      ],
      "source": [
        "df_train = pd.read_csv(\"train.csv\")\n",
        "df_valid = pd.read_csv(\"valid.csv\")\n",
        "df_test = pd.read_csv(\"test.csv\")\n",
        "df =  pd.concat([df_train, df_valid, df_test], ignore_index=True)\n",
        "df"
      ]
    },
    {
      "cell_type": "code",
      "execution_count": null,
      "id": "964fb51f-b43f-4b06-a63c-f9fd608b7ebe",
      "metadata": {
        "id": "964fb51f-b43f-4b06-a63c-f9fd608b7ebe"
      },
      "outputs": [],
      "source": [
        "df.label.value_counts()"
      ]
    },
    {
      "cell_type": "markdown",
      "id": "3ede128b-b81f-43d0-afdf-4e9f31d6a215",
      "metadata": {
        "id": "3ede128b-b81f-43d0-afdf-4e9f31d6a215"
      },
      "source": [
        "## Text Normalization"
      ]
    },
    {
      "cell_type": "code",
      "execution_count": null,
      "id": "3026ecbf-18db-410d-a48a-273d11d83f2a",
      "metadata": {
        "id": "3026ecbf-18db-410d-a48a-273d11d83f2a"
      },
      "outputs": [],
      "source": [
        "def cleansing(sent):\n",
        "    string = sent.lower()\n",
        "    string = re.sub(r'[^a-zA-Z0-9]', ' ', string)\n",
        "    return string"
      ]
    },
    {
      "cell_type": "code",
      "execution_count": null,
      "id": "bdfa6ea3-7ce6-46b3-8af2-492fbee4a4a4",
      "metadata": {
        "id": "bdfa6ea3-7ce6-46b3-8af2-492fbee4a4a4",
        "outputId": "475be7af-23e4-4a9a-e991-892dbffde434",
        "colab": {
          "base_uri": "https://localhost:8080/",
          "height": 206
        }
      },
      "outputs": [
        {
          "output_type": "execute_result",
          "data": {
            "text/plain": [
              "    id                                               text     label  \\\n",
              "0  219  Nikmati cicilan 0% hingga 12 bulan untuk pemes...   neutral   \n",
              "1  209  Kue-kue yang disajikan bikin saya bernostalgia...  positive   \n",
              "2  436               Ibu pernah bekerja di grab indonesia   neutral   \n",
              "3  394  Paling suka banget makan siang di sini ayam sa...  positive   \n",
              "4  592                    Pelayanan bus DAMRI sangat baik  positive   \n",
              "\n",
              "                                          text_clean  \n",
              "0  nikmati cicilan 0  hingga 12 bulan untuk pemes...  \n",
              "1  kue kue yang disajikan bikin saya bernostalgia...  \n",
              "2               ibu pernah bekerja di grab indonesia  \n",
              "3  paling suka banget makan siang di sini ayam sa...  \n",
              "4                    pelayanan bus damri sangat baik  "
            ],
            "text/html": [
              "\n",
              "  <div id=\"df-d795408c-af08-45bd-994f-738d1f6fd764\" class=\"colab-df-container\">\n",
              "    <div>\n",
              "<style scoped>\n",
              "    .dataframe tbody tr th:only-of-type {\n",
              "        vertical-align: middle;\n",
              "    }\n",
              "\n",
              "    .dataframe tbody tr th {\n",
              "        vertical-align: top;\n",
              "    }\n",
              "\n",
              "    .dataframe thead th {\n",
              "        text-align: right;\n",
              "    }\n",
              "</style>\n",
              "<table border=\"1\" class=\"dataframe\">\n",
              "  <thead>\n",
              "    <tr style=\"text-align: right;\">\n",
              "      <th></th>\n",
              "      <th>id</th>\n",
              "      <th>text</th>\n",
              "      <th>label</th>\n",
              "      <th>text_clean</th>\n",
              "    </tr>\n",
              "  </thead>\n",
              "  <tbody>\n",
              "    <tr>\n",
              "      <th>0</th>\n",
              "      <td>219</td>\n",
              "      <td>Nikmati cicilan 0% hingga 12 bulan untuk pemes...</td>\n",
              "      <td>neutral</td>\n",
              "      <td>nikmati cicilan 0  hingga 12 bulan untuk pemes...</td>\n",
              "    </tr>\n",
              "    <tr>\n",
              "      <th>1</th>\n",
              "      <td>209</td>\n",
              "      <td>Kue-kue yang disajikan bikin saya bernostalgia...</td>\n",
              "      <td>positive</td>\n",
              "      <td>kue kue yang disajikan bikin saya bernostalgia...</td>\n",
              "    </tr>\n",
              "    <tr>\n",
              "      <th>2</th>\n",
              "      <td>436</td>\n",
              "      <td>Ibu pernah bekerja di grab indonesia</td>\n",
              "      <td>neutral</td>\n",
              "      <td>ibu pernah bekerja di grab indonesia</td>\n",
              "    </tr>\n",
              "    <tr>\n",
              "      <th>3</th>\n",
              "      <td>394</td>\n",
              "      <td>Paling suka banget makan siang di sini ayam sa...</td>\n",
              "      <td>positive</td>\n",
              "      <td>paling suka banget makan siang di sini ayam sa...</td>\n",
              "    </tr>\n",
              "    <tr>\n",
              "      <th>4</th>\n",
              "      <td>592</td>\n",
              "      <td>Pelayanan bus DAMRI sangat baik</td>\n",
              "      <td>positive</td>\n",
              "      <td>pelayanan bus damri sangat baik</td>\n",
              "    </tr>\n",
              "  </tbody>\n",
              "</table>\n",
              "</div>\n",
              "    <div class=\"colab-df-buttons\">\n",
              "\n",
              "  <div class=\"colab-df-container\">\n",
              "    <button class=\"colab-df-convert\" onclick=\"convertToInteractive('df-d795408c-af08-45bd-994f-738d1f6fd764')\"\n",
              "            title=\"Convert this dataframe to an interactive table.\"\n",
              "            style=\"display:none;\">\n",
              "\n",
              "  <svg xmlns=\"http://www.w3.org/2000/svg\" height=\"24px\" viewBox=\"0 -960 960 960\">\n",
              "    <path d=\"M120-120v-720h720v720H120Zm60-500h600v-160H180v160Zm220 220h160v-160H400v160Zm0 220h160v-160H400v160ZM180-400h160v-160H180v160Zm440 0h160v-160H620v160ZM180-180h160v-160H180v160Zm440 0h160v-160H620v160Z\"/>\n",
              "  </svg>\n",
              "    </button>\n",
              "\n",
              "  <style>\n",
              "    .colab-df-container {\n",
              "      display:flex;\n",
              "      gap: 12px;\n",
              "    }\n",
              "\n",
              "    .colab-df-convert {\n",
              "      background-color: #E8F0FE;\n",
              "      border: none;\n",
              "      border-radius: 50%;\n",
              "      cursor: pointer;\n",
              "      display: none;\n",
              "      fill: #1967D2;\n",
              "      height: 32px;\n",
              "      padding: 0 0 0 0;\n",
              "      width: 32px;\n",
              "    }\n",
              "\n",
              "    .colab-df-convert:hover {\n",
              "      background-color: #E2EBFA;\n",
              "      box-shadow: 0px 1px 2px rgba(60, 64, 67, 0.3), 0px 1px 3px 1px rgba(60, 64, 67, 0.15);\n",
              "      fill: #174EA6;\n",
              "    }\n",
              "\n",
              "    .colab-df-buttons div {\n",
              "      margin-bottom: 4px;\n",
              "    }\n",
              "\n",
              "    [theme=dark] .colab-df-convert {\n",
              "      background-color: #3B4455;\n",
              "      fill: #D2E3FC;\n",
              "    }\n",
              "\n",
              "    [theme=dark] .colab-df-convert:hover {\n",
              "      background-color: #434B5C;\n",
              "      box-shadow: 0px 1px 3px 1px rgba(0, 0, 0, 0.15);\n",
              "      filter: drop-shadow(0px 1px 2px rgba(0, 0, 0, 0.3));\n",
              "      fill: #FFFFFF;\n",
              "    }\n",
              "  </style>\n",
              "\n",
              "    <script>\n",
              "      const buttonEl =\n",
              "        document.querySelector('#df-d795408c-af08-45bd-994f-738d1f6fd764 button.colab-df-convert');\n",
              "      buttonEl.style.display =\n",
              "        google.colab.kernel.accessAllowed ? 'block' : 'none';\n",
              "\n",
              "      async function convertToInteractive(key) {\n",
              "        const element = document.querySelector('#df-d795408c-af08-45bd-994f-738d1f6fd764');\n",
              "        const dataTable =\n",
              "          await google.colab.kernel.invokeFunction('convertToInteractive',\n",
              "                                                    [key], {});\n",
              "        if (!dataTable) return;\n",
              "\n",
              "        const docLinkHtml = 'Like what you see? Visit the ' +\n",
              "          '<a target=\"_blank\" href=https://colab.research.google.com/notebooks/data_table.ipynb>data table notebook</a>'\n",
              "          + ' to learn more about interactive tables.';\n",
              "        element.innerHTML = '';\n",
              "        dataTable['output_type'] = 'display_data';\n",
              "        await google.colab.output.renderOutput(dataTable, element);\n",
              "        const docLink = document.createElement('div');\n",
              "        docLink.innerHTML = docLinkHtml;\n",
              "        element.appendChild(docLink);\n",
              "      }\n",
              "    </script>\n",
              "  </div>\n",
              "\n",
              "\n",
              "<div id=\"df-3429cfba-f4a6-493f-8678-3d19fa4ddbda\">\n",
              "  <button class=\"colab-df-quickchart\" onclick=\"quickchart('df-3429cfba-f4a6-493f-8678-3d19fa4ddbda')\"\n",
              "            title=\"Suggest charts\"\n",
              "            style=\"display:none;\">\n",
              "\n",
              "<svg xmlns=\"http://www.w3.org/2000/svg\" height=\"24px\"viewBox=\"0 0 24 24\"\n",
              "     width=\"24px\">\n",
              "    <g>\n",
              "        <path d=\"M19 3H5c-1.1 0-2 .9-2 2v14c0 1.1.9 2 2 2h14c1.1 0 2-.9 2-2V5c0-1.1-.9-2-2-2zM9 17H7v-7h2v7zm4 0h-2V7h2v10zm4 0h-2v-4h2v4z\"/>\n",
              "    </g>\n",
              "</svg>\n",
              "  </button>\n",
              "\n",
              "<style>\n",
              "  .colab-df-quickchart {\n",
              "      --bg-color: #E8F0FE;\n",
              "      --fill-color: #1967D2;\n",
              "      --hover-bg-color: #E2EBFA;\n",
              "      --hover-fill-color: #174EA6;\n",
              "      --disabled-fill-color: #AAA;\n",
              "      --disabled-bg-color: #DDD;\n",
              "  }\n",
              "\n",
              "  [theme=dark] .colab-df-quickchart {\n",
              "      --bg-color: #3B4455;\n",
              "      --fill-color: #D2E3FC;\n",
              "      --hover-bg-color: #434B5C;\n",
              "      --hover-fill-color: #FFFFFF;\n",
              "      --disabled-bg-color: #3B4455;\n",
              "      --disabled-fill-color: #666;\n",
              "  }\n",
              "\n",
              "  .colab-df-quickchart {\n",
              "    background-color: var(--bg-color);\n",
              "    border: none;\n",
              "    border-radius: 50%;\n",
              "    cursor: pointer;\n",
              "    display: none;\n",
              "    fill: var(--fill-color);\n",
              "    height: 32px;\n",
              "    padding: 0;\n",
              "    width: 32px;\n",
              "  }\n",
              "\n",
              "  .colab-df-quickchart:hover {\n",
              "    background-color: var(--hover-bg-color);\n",
              "    box-shadow: 0 1px 2px rgba(60, 64, 67, 0.3), 0 1px 3px 1px rgba(60, 64, 67, 0.15);\n",
              "    fill: var(--button-hover-fill-color);\n",
              "  }\n",
              "\n",
              "  .colab-df-quickchart-complete:disabled,\n",
              "  .colab-df-quickchart-complete:disabled:hover {\n",
              "    background-color: var(--disabled-bg-color);\n",
              "    fill: var(--disabled-fill-color);\n",
              "    box-shadow: none;\n",
              "  }\n",
              "\n",
              "  .colab-df-spinner {\n",
              "    border: 2px solid var(--fill-color);\n",
              "    border-color: transparent;\n",
              "    border-bottom-color: var(--fill-color);\n",
              "    animation:\n",
              "      spin 1s steps(1) infinite;\n",
              "  }\n",
              "\n",
              "  @keyframes spin {\n",
              "    0% {\n",
              "      border-color: transparent;\n",
              "      border-bottom-color: var(--fill-color);\n",
              "      border-left-color: var(--fill-color);\n",
              "    }\n",
              "    20% {\n",
              "      border-color: transparent;\n",
              "      border-left-color: var(--fill-color);\n",
              "      border-top-color: var(--fill-color);\n",
              "    }\n",
              "    30% {\n",
              "      border-color: transparent;\n",
              "      border-left-color: var(--fill-color);\n",
              "      border-top-color: var(--fill-color);\n",
              "      border-right-color: var(--fill-color);\n",
              "    }\n",
              "    40% {\n",
              "      border-color: transparent;\n",
              "      border-right-color: var(--fill-color);\n",
              "      border-top-color: var(--fill-color);\n",
              "    }\n",
              "    60% {\n",
              "      border-color: transparent;\n",
              "      border-right-color: var(--fill-color);\n",
              "    }\n",
              "    80% {\n",
              "      border-color: transparent;\n",
              "      border-right-color: var(--fill-color);\n",
              "      border-bottom-color: var(--fill-color);\n",
              "    }\n",
              "    90% {\n",
              "      border-color: transparent;\n",
              "      border-bottom-color: var(--fill-color);\n",
              "    }\n",
              "  }\n",
              "</style>\n",
              "\n",
              "  <script>\n",
              "    async function quickchart(key) {\n",
              "      const quickchartButtonEl =\n",
              "        document.querySelector('#' + key + ' button');\n",
              "      quickchartButtonEl.disabled = true;  // To prevent multiple clicks.\n",
              "      quickchartButtonEl.classList.add('colab-df-spinner');\n",
              "      try {\n",
              "        const charts = await google.colab.kernel.invokeFunction(\n",
              "            'suggestCharts', [key], {});\n",
              "      } catch (error) {\n",
              "        console.error('Error during call to suggestCharts:', error);\n",
              "      }\n",
              "      quickchartButtonEl.classList.remove('colab-df-spinner');\n",
              "      quickchartButtonEl.classList.add('colab-df-quickchart-complete');\n",
              "    }\n",
              "    (() => {\n",
              "      let quickchartButtonEl =\n",
              "        document.querySelector('#df-3429cfba-f4a6-493f-8678-3d19fa4ddbda button');\n",
              "      quickchartButtonEl.style.display =\n",
              "        google.colab.kernel.accessAllowed ? 'block' : 'none';\n",
              "    })();\n",
              "  </script>\n",
              "</div>\n",
              "    </div>\n",
              "  </div>\n"
            ]
          },
          "metadata": {},
          "execution_count": 5
        }
      ],
      "source": [
        "df['text_clean'] = df.text.apply(cleansing)\n",
        "df.head()"
      ]
    },
    {
      "cell_type": "markdown",
      "id": "43a177fa-9772-487a-ab3d-37e1096f45cd",
      "metadata": {
        "id": "43a177fa-9772-487a-ab3d-37e1096f45cd"
      },
      "source": [
        "## Feature Extraction"
      ]
    },
    {
      "cell_type": "markdown",
      "id": "71121760-70b3-4035-8a7a-9a917c6a45c8",
      "metadata": {
        "id": "71121760-70b3-4035-8a7a-9a917c6a45c8"
      },
      "source": [
        "### Bag of Words"
      ]
    },
    {
      "cell_type": "code",
      "execution_count": null,
      "id": "e4f878c9-a0ce-4e9a-b8b6-1a2d2487d6b8",
      "metadata": {
        "id": "e4f878c9-a0ce-4e9a-b8b6-1a2d2487d6b8"
      },
      "outputs": [],
      "source": [
        "from sklearn.feature_extraction.text import CountVectorizer\n",
        "\n",
        "data_preprocessed = df.text_clean.tolist()"
      ]
    },
    {
      "cell_type": "code",
      "execution_count": null,
      "id": "05a7f26f-ec46-406d-8d6f-374bee0a5470",
      "metadata": {
        "id": "05a7f26f-ec46-406d-8d6f-374bee0a5470",
        "outputId": "6d40245a-fb74-4c35-c842-ce8c9636e4b5",
        "colab": {
          "base_uri": "https://localhost:8080/"
        }
      },
      "outputs": [
        {
          "output_type": "stream",
          "name": "stdout",
          "text": [
            "Feature Extraction selesai\n"
          ]
        }
      ],
      "source": [
        "# Proses Feature Extraction\n",
        "count_vect = CountVectorizer()\n",
        "\n",
        "X = count_vect.fit_transform(data_preprocessed)\n",
        "print(\"Feature Extraction selesai\")"
      ]
    },
    {
      "cell_type": "code",
      "source": [
        "count_array = X.toarray()\n",
        "df_array = pd.DataFrame(data=count_array,columns = count_vect.get_feature_names_out())\n",
        "print(df_array)"
      ],
      "metadata": {
        "colab": {
          "base_uri": "https://localhost:8080/"
        },
        "id": "274C6cxYJ5EN",
        "outputId": "d0b96e55-4cf1-4dbc-8d91-c2aa592aa91c"
      },
      "id": "274C6cxYJ5EN",
      "execution_count": null,
      "outputs": [
        {
          "output_type": "stream",
          "name": "stdout",
          "text": [
            "     00  000  10  100  10000  101  11  12  120  13  ...  yooyee  youtube  \\\n",
            "0     0    0   0    0      0    0   0   1    0   0  ...       0        0   \n",
            "1     0    0   0    0      0    0   0   0    0   0  ...       0        0   \n",
            "2     0    0   0    0      0    0   0   0    0   0  ...       0        0   \n",
            "3     0    0   1    0      0    0   0   0    0   0  ...       0        0   \n",
            "4     0    0   0    0      0    0   0   0    0   0  ...       0        0   \n",
            "..   ..  ...  ..  ...    ...  ...  ..  ..  ...  ..  ...     ...      ...   \n",
            "995   0    0   0    0      0    0   0   0    0   0  ...       0        0   \n",
            "996   0    0   0    0      0    0   0   0    0   0  ...       0        0   \n",
            "997   0    0   0    0      0    0   0   0    0   0  ...       0        0   \n",
            "998   0    0   0    0      0    0   0   0    0   0  ...       0        0   \n",
            "999   0    0   0    0      0    0   0   0    0   0  ...       0        0   \n",
            "\n",
            "     yummi  yummy  yun  yup  yuummy  zaman  zan  zebra  \n",
            "0        0      0    0    0       0      0    0      0  \n",
            "1        0      0    0    0       0      1    0      0  \n",
            "2        0      0    0    0       0      0    0      0  \n",
            "3        0      0    0    0       0      0    0      0  \n",
            "4        0      0    0    0       0      0    0      0  \n",
            "..     ...    ...  ...  ...     ...    ...  ...    ...  \n",
            "995      0      0    0    0       0      0    0      0  \n",
            "996      0      0    0    0       0      0    0      0  \n",
            "997      0      0    0    0       0      0    0      0  \n",
            "998      0      0    0    0       0      0    0      0  \n",
            "999      0      0    0    0       0      0    0      0  \n",
            "\n",
            "[1000 rows x 4243 columns]\n"
          ]
        }
      ]
    },
    {
      "cell_type": "code",
      "execution_count": null,
      "id": "c9319b65-6d5e-41d6-baeb-9dab1ced9891",
      "metadata": {
        "id": "c9319b65-6d5e-41d6-baeb-9dab1ced9891"
      },
      "outputs": [],
      "source": [
        "pickle.dump(count_vect, open(\"feature.p\", \"wb\")) # save feature to pickle"
      ]
    },
    {
      "cell_type": "markdown",
      "id": "480b231f-e10b-425c-958d-9710a241818b",
      "metadata": {
        "id": "480b231f-e10b-425c-958d-9710a241818b"
      },
      "source": [
        "### TF-IDF"
      ]
    },
    {
      "cell_type": "code",
      "execution_count": null,
      "id": "b6eba810-2ae6-4f82-839b-e971b002032e",
      "metadata": {
        "id": "b6eba810-2ae6-4f82-839b-e971b002032e"
      },
      "outputs": [],
      "source": [
        "from sklearn.feature_extraction.text import TfidfVectorizer\n",
        "\n",
        "data_preprocessed = df.text_clean.tolist()"
      ]
    },
    {
      "cell_type": "code",
      "execution_count": null,
      "id": "dd3ce11b-6581-4be6-a70f-7ce0a4130b68",
      "metadata": {
        "id": "dd3ce11b-6581-4be6-a70f-7ce0a4130b68",
        "outputId": "ea7490e0-11e1-497c-b486-d1ecc3ec9b2d",
        "colab": {
          "base_uri": "https://localhost:8080/"
        }
      },
      "outputs": [
        {
          "output_type": "stream",
          "name": "stdout",
          "text": [
            "Feature Extraction selesai\n"
          ]
        }
      ],
      "source": [
        "# Proses Feature Extraction\n",
        "tfidf_vect = TfidfVectorizer()\n",
        "\n",
        "X = tfidf_vect.fit_transform(data_preprocessed)\n",
        "print(\"Feature Extraction selesai\")"
      ]
    },
    {
      "cell_type": "code",
      "source": [
        "with open('tfidf_vect.p','wb') as handle:\n",
        "    pickle.dump(tfidf_vect, handle, protocol=pickle.HIGHEST_PROTOCOL)\n",
        "    print(\"tfidf_vect.pickle has created!\")"
      ],
      "metadata": {
        "colab": {
          "base_uri": "https://localhost:8080/"
        },
        "id": "lo9FKrWYTxiM",
        "outputId": "fa8a7705-f786-4ad8-a319-659c3f17a100"
      },
      "id": "lo9FKrWYTxiM",
      "execution_count": null,
      "outputs": [
        {
          "output_type": "stream",
          "name": "stdout",
          "text": [
            "tfidf_vect.pickle has created!\n"
          ]
        }
      ]
    },
    {
      "cell_type": "code",
      "source": [
        "tfidf_array = X.toarray()\n",
        "df_array = pd.DataFrame(data=tfidf_array,columns = tfidf_vect.get_feature_names_out())\n",
        "print(df_array)"
      ],
      "metadata": {
        "colab": {
          "base_uri": "https://localhost:8080/"
        },
        "id": "m5FIGdaJKLWx",
        "outputId": "3352ccc4-e9d3-41cd-b9e3-f09fe77e19af"
      },
      "id": "m5FIGdaJKLWx",
      "execution_count": null,
      "outputs": [
        {
          "output_type": "stream",
          "name": "stdout",
          "text": [
            "      00  000        10  100  10000  101   11       12  120   13  ...  yooyee  \\\n",
            "0    0.0  0.0  0.000000  0.0    0.0  0.0  0.0  0.27568  0.0  0.0  ...     0.0   \n",
            "1    0.0  0.0  0.000000  0.0    0.0  0.0  0.0  0.00000  0.0  0.0  ...     0.0   \n",
            "2    0.0  0.0  0.000000  0.0    0.0  0.0  0.0  0.00000  0.0  0.0  ...     0.0   \n",
            "3    0.0  0.0  0.137447  0.0    0.0  0.0  0.0  0.00000  0.0  0.0  ...     0.0   \n",
            "4    0.0  0.0  0.000000  0.0    0.0  0.0  0.0  0.00000  0.0  0.0  ...     0.0   \n",
            "..   ...  ...       ...  ...    ...  ...  ...      ...  ...  ...  ...     ...   \n",
            "995  0.0  0.0  0.000000  0.0    0.0  0.0  0.0  0.00000  0.0  0.0  ...     0.0   \n",
            "996  0.0  0.0  0.000000  0.0    0.0  0.0  0.0  0.00000  0.0  0.0  ...     0.0   \n",
            "997  0.0  0.0  0.000000  0.0    0.0  0.0  0.0  0.00000  0.0  0.0  ...     0.0   \n",
            "998  0.0  0.0  0.000000  0.0    0.0  0.0  0.0  0.00000  0.0  0.0  ...     0.0   \n",
            "999  0.0  0.0  0.000000  0.0    0.0  0.0  0.0  0.00000  0.0  0.0  ...     0.0   \n",
            "\n",
            "     youtube  yummi  yummy  yun  yup  yuummy     zaman  zan  zebra  \n",
            "0        0.0    0.0    0.0  0.0  0.0     0.0  0.000000  0.0    0.0  \n",
            "1        0.0    0.0    0.0  0.0  0.0     0.0  0.193191  0.0    0.0  \n",
            "2        0.0    0.0    0.0  0.0  0.0     0.0  0.000000  0.0    0.0  \n",
            "3        0.0    0.0    0.0  0.0  0.0     0.0  0.000000  0.0    0.0  \n",
            "4        0.0    0.0    0.0  0.0  0.0     0.0  0.000000  0.0    0.0  \n",
            "..       ...    ...    ...  ...  ...     ...       ...  ...    ...  \n",
            "995      0.0    0.0    0.0  0.0  0.0     0.0  0.000000  0.0    0.0  \n",
            "996      0.0    0.0    0.0  0.0  0.0     0.0  0.000000  0.0    0.0  \n",
            "997      0.0    0.0    0.0  0.0  0.0     0.0  0.000000  0.0    0.0  \n",
            "998      0.0    0.0    0.0  0.0  0.0     0.0  0.000000  0.0    0.0  \n",
            "999      0.0    0.0    0.0  0.0  0.0     0.0  0.000000  0.0    0.0  \n",
            "\n",
            "[1000 rows x 4243 columns]\n"
          ]
        }
      ]
    },
    {
      "cell_type": "markdown",
      "id": "93d2f93d-370b-4486-8266-2603bba76e8c",
      "metadata": {
        "id": "93d2f93d-370b-4486-8266-2603bba76e8c"
      },
      "source": [
        "### Prepare train and test dataset (split dataset)"
      ]
    },
    {
      "cell_type": "code",
      "execution_count": null,
      "id": "9395ae6e-fc8d-4b5a-94d1-2f5fc5fe11d4",
      "metadata": {
        "id": "9395ae6e-fc8d-4b5a-94d1-2f5fc5fe11d4"
      },
      "outputs": [],
      "source": [
        "from sklearn.model_selection import train_test_split"
      ]
    },
    {
      "cell_type": "code",
      "execution_count": null,
      "id": "f16ee8d0-655f-43c5-acef-566f53c3e528",
      "metadata": {
        "id": "f16ee8d0-655f-43c5-acef-566f53c3e528"
      },
      "outputs": [],
      "source": [
        "# save output feature in variable classes\n",
        "classes = df.label\n",
        "\n",
        "# split dataset to 80% train and 20% test\n",
        "X_train, X_test, y_train, y_test = train_test_split(X, classes, test_size = 0.2)"
      ]
    },
    {
      "cell_type": "code",
      "execution_count": null,
      "id": "decd7be2-7698-4016-abe0-1440a049cd0e",
      "metadata": {
        "id": "decd7be2-7698-4016-abe0-1440a049cd0e",
        "outputId": "04393c3c-5619-43c7-98c9-881ab7fffde2",
        "colab": {
          "base_uri": "https://localhost:8080/"
        }
      },
      "outputs": [
        {
          "output_type": "stream",
          "name": "stdout",
          "text": [
            "(800, 4243)\n",
            "(200, 4243)\n",
            "(800,)\n",
            "(200,)\n"
          ]
        }
      ],
      "source": [
        "print(X_train.shape)\n",
        "print(X_test.shape)\n",
        "print(y_train.shape)\n",
        "print(y_test.shape)"
      ]
    },
    {
      "cell_type": "markdown",
      "id": "fa2b7402-97f8-4f4b-8a65-81e47bf485dd",
      "metadata": {
        "id": "fa2b7402-97f8-4f4b-8a65-81e47bf485dd"
      },
      "source": [
        "## Model Training"
      ]
    },
    {
      "cell_type": "markdown",
      "id": "9f2791da-32d3-43a3-922e-440d82b43079",
      "metadata": {
        "id": "9f2791da-32d3-43a3-922e-440d82b43079"
      },
      "source": [
        "### Naive Bayes"
      ]
    },
    {
      "cell_type": "code",
      "execution_count": null,
      "id": "3a17e6de-4c57-4136-af64-5cb2264b1098",
      "metadata": {
        "id": "3a17e6de-4c57-4136-af64-5cb2264b1098"
      },
      "outputs": [],
      "source": [
        "from sklearn.naive_bayes import MultinomialNB #load library naive bayes"
      ]
    },
    {
      "cell_type": "code",
      "execution_count": null,
      "id": "48054834-a49a-4fba-a64b-369f0b2d4092",
      "metadata": {
        "id": "48054834-a49a-4fba-a64b-369f0b2d4092",
        "outputId": "4ca4a762-1884-4115-81fe-8c3cd9ddd4a3",
        "colab": {
          "base_uri": "https://localhost:8080/"
        }
      },
      "outputs": [
        {
          "output_type": "stream",
          "name": "stdout",
          "text": [
            "Training selesai\n"
          ]
        }
      ],
      "source": [
        "model = MultinomialNB()\n",
        "model.fit(X_train, y_train)\n",
        "\n",
        "print(\"Training selesai\")"
      ]
    },
    {
      "cell_type": "code",
      "execution_count": null,
      "id": "60473a38-8993-4a15-9fd5-54059bcfa6fe",
      "metadata": {
        "id": "60473a38-8993-4a15-9fd5-54059bcfa6fe"
      },
      "outputs": [],
      "source": [
        "# save model to pickle\n",
        "pickle.dump(model, open(\"model_naivebayes.p\", \"wb\"))"
      ]
    },
    {
      "cell_type": "markdown",
      "id": "4b810840-334f-4a32-af64-2780d2fccc9f",
      "metadata": {
        "id": "4b810840-334f-4a32-af64-2780d2fccc9f"
      },
      "source": [
        "### Neural Network"
      ]
    },
    {
      "cell_type": "code",
      "execution_count": null,
      "id": "b84c098f-7466-4859-9e6b-36e016875235",
      "metadata": {
        "id": "b84c098f-7466-4859-9e6b-36e016875235"
      },
      "outputs": [],
      "source": [
        "from sklearn.neural_network import MLPClassifier #load library neural network"
      ]
    },
    {
      "cell_type": "code",
      "execution_count": null,
      "id": "84cfa30c-38c4-4572-8ee0-7e385eaf30d6",
      "metadata": {
        "id": "84cfa30c-38c4-4572-8ee0-7e385eaf30d6",
        "outputId": "eb41f821-bb0f-4158-8bd6-3e41fec1f5ec",
        "colab": {
          "base_uri": "https://localhost:8080/"
        }
      },
      "outputs": [
        {
          "output_type": "stream",
          "name": "stdout",
          "text": [
            "Training selesai\n"
          ]
        }
      ],
      "source": [
        "# model training menggunakan neural network\n",
        "model = MLPClassifier()\n",
        "model.fit(X_train, y_train)\n",
        "\n",
        "print(\"Training selesai\")\n",
        "\n",
        "# save model to pickle\n",
        "pickle.dump(model, open(\"model_neuralnetwork.p\", \"wb\"))"
      ]
    },
    {
      "cell_type": "markdown",
      "id": "0ec054c9-90f5-4cf3-bbb3-464f4f7f7c16",
      "metadata": {
        "id": "0ec054c9-90f5-4cf3-bbb3-464f4f7f7c16"
      },
      "source": [
        "## Model Evaluation"
      ]
    },
    {
      "cell_type": "code",
      "execution_count": null,
      "id": "cfab415e-8986-48e3-b398-9361c12e49ab",
      "metadata": {
        "id": "cfab415e-8986-48e3-b398-9361c12e49ab"
      },
      "outputs": [],
      "source": [
        "from sklearn.metrics import classification_report\n",
        "from sklearn.metrics import confusion_matrix\n",
        "import seaborn as sns\n",
        "import matplotlib.pyplot as plt"
      ]
    },
    {
      "cell_type": "code",
      "execution_count": null,
      "id": "3fa7211a-5174-46bf-91a2-1e7b05915804",
      "metadata": {
        "id": "3fa7211a-5174-46bf-91a2-1e7b05915804",
        "outputId": "ac867a5a-bc9a-4b62-bf40-dfbc8c6949f1",
        "colab": {
          "base_uri": "https://localhost:8080/"
        }
      },
      "outputs": [
        {
          "output_type": "stream",
          "name": "stdout",
          "text": [
            "Testing selesai\n",
            "              precision    recall  f1-score   support\n",
            "\n",
            "    negative       0.66      0.78      0.72        68\n",
            "     neutral       0.85      0.64      0.73        55\n",
            "    positive       0.81      0.83      0.82        77\n",
            "\n",
            "    accuracy                           0.76       200\n",
            "   macro avg       0.78      0.75      0.76       200\n",
            "weighted avg       0.77      0.76      0.76       200\n",
            "\n"
          ]
        }
      ],
      "source": [
        "test = model.predict(X_test)\n",
        "print (\"Testing selesai\")\n",
        "print(classification_report(y_test, test))"
      ]
    },
    {
      "cell_type": "code",
      "source": [
        "cm = confusion_matrix(y_test, test, labels=[\"negative\", \"neutral\", \"positive\"])\n",
        "\n",
        "cm_df = pd.DataFrame(cm,\n",
        "                     index =[\"negative\", \"neutral\", \"positive\"],\n",
        "                     columns =[\"negative\", \"neutral\", \"positive\"])\n",
        "\n",
        "#Plotting the confusion matrix\n",
        "plt.figure(figsize=(5,4))\n",
        "sns.heatmap(cm_df, annot=True)\n",
        "plt.title('Confusion Matrix')\n",
        "plt.ylabel('Actual Values')\n",
        "plt.xlabel('Predicted Values')\n",
        "plt.show()"
      ],
      "metadata": {
        "colab": {
          "base_uri": "https://localhost:8080/",
          "height": 410
        },
        "id": "uBR7HanqQPZ2",
        "outputId": "b95963ed-c050-4f5a-8850-e46cd4e19670"
      },
      "id": "uBR7HanqQPZ2",
      "execution_count": null,
      "outputs": [
        {
          "output_type": "display_data",
          "data": {
            "text/plain": [
              "<Figure size 500x400 with 2 Axes>"
            ],
            "image/png": "[encoded data removed]"
          },
          "metadata": {}
        }
      ]
    },
    {
      "cell_type": "markdown",
      "id": "3f2b16b8-3646-4578-a450-ca89da4d72ca",
      "metadata": {
        "id": "3f2b16b8-3646-4578-a450-ca89da4d72ca"
      },
      "source": [
        "### Cross Validation"
      ]
    },
    {
      "cell_type": "code",
      "execution_count": null,
      "id": "cef1a919-d545-4092-ab05-0f18f02396c2",
      "metadata": {
        "id": "cef1a919-d545-4092-ab05-0f18f02396c2"
      },
      "outputs": [],
      "source": [
        "from sklearn.model_selection import KFold\n",
        "from sklearn.metrics import accuracy_score, recall_score, precision_score, f1_score\n",
        "from statistics import mean, stdev"
      ]
    },
    {
      "cell_type": "code",
      "source": [
        "X = df[[\"text_clean\"]] # input feature\n",
        "Y = df[\"label\"] # output feature\n",
        "\n",
        "# split dataset to 80% train and 20% test\n",
        "X_train, X_test, y_train, y_test = train_test_split(X, Y, test_size = 0.2)"
      ],
      "metadata": {
        "id": "X3PmgOuk2WYe"
      },
      "id": "X3PmgOuk2WYe",
      "execution_count": null,
      "outputs": []
    },
    {
      "cell_type": "code",
      "execution_count": null,
      "id": "0f9b05a4-65f8-44cf-9bfe-2a93ab905190",
      "metadata": {
        "id": "0f9b05a4-65f8-44cf-9bfe-2a93ab905190"
      },
      "outputs": [],
      "source": [
        "# cross validation dengan split = 5\n",
        "kf = KFold(n_splits=5, random_state=42, shuffle=True)\n",
        "\n",
        "accuracies=[]\n",
        "\n",
        "X_train = X_train.reset_index().text_clean\n",
        "y_train = y_train.reset_index().label"
      ]
    },
    {
      "cell_type": "code",
      "execution_count": null,
      "id": "75e8b1fb-7dee-4670-8519-e80e68d1c28e",
      "metadata": {
        "id": "75e8b1fb-7dee-4670-8519-e80e68d1c28e"
      },
      "outputs": [],
      "source": [
        "def cross_validation(k, X_train, model, name):\n",
        "  accuracies = []\n",
        "  precisions = []\n",
        "  recalls = []\n",
        "  f1_scores = []\n",
        "\n",
        "  # iterate sebanyak k cross validation\n",
        "  for iteration, data in enumerate(kf.split(X_train), start=1):\n",
        "      # get data and target train\n",
        "      data_train = X_train[data[0]]\n",
        "      tfidf_vect = TfidfVectorizer()\n",
        "      data_train = tfidf_vect.fit_transform(data_train)\n",
        "\n",
        "      target_train = y_train[data[0]]\n",
        "\n",
        "      # get data and target test\n",
        "      data_test =  X_train[data[1]]\n",
        "      data_test = tfidf_vect.transform(data_test)\n",
        "\n",
        "      target_test =  y_train[data[1]]\n",
        "\n",
        "      # model training menggunakan data train\n",
        "      classifier = model\n",
        "      classifier.fit(data_train, target_train)\n",
        "\n",
        "      # prediksi data test\n",
        "      preds = classifier.predict(data_test)\n",
        "\n",
        "      # menghitung accuracy\n",
        "      accuracy = accuracy_score(target_test, preds)\n",
        "      precision = precision_score(target_test, preds, average='weighted')\n",
        "      recall = recall_score(target_test, preds, average='weighted')\n",
        "      f1 = f1_score(target_test, preds, average='weighted')\n",
        "\n",
        "      # print(\"Training ke-\", iteration)\n",
        "      # print(classification_report(target_test, preds))\n",
        "      # print(\"=================================================================\")\n",
        "\n",
        "      accuracies.append(accuracy)\n",
        "      precisions.append(precision)\n",
        "      recalls.append(recall)\n",
        "      f1_scores.append(f1)\n",
        "\n",
        "  result = {'algorithm': name,\n",
        "                'accuracy_per_iter': accuracies, 'accuracy_mean': mean(accuracies), 'accuracy_std': stdev(accuracies),\n",
        "                'recall_mean': mean(recalls),'precision_mean': mean(precisions), 'f1_mean': mean(f1_scores)}\n",
        "  return result\n"
      ]
    },
    {
      "cell_type": "code",
      "source": [
        "result = cross_validation(5, X_train, MultinomialNB(), \"Naive Bayes\")\n",
        "result"
      ],
      "metadata": {
        "colab": {
          "base_uri": "https://localhost:8080/"
        },
        "id": "koUFk4_3GK3u",
        "outputId": "f6a0611e-82ed-4aee-858f-5b6bad6b8d5e"
      },
      "id": "koUFk4_3GK3u",
      "execution_count": null,
      "outputs": [
        {
          "output_type": "execute_result",
          "data": {
            "text/plain": [
              "{'algorithm': 'Naive Bayes',\n",
              " 'accuracy_per_iter': [0.7375, 0.6625, 0.71875, 0.625, 0.6],\n",
              " 'accuracy_mean': 0.66875,\n",
              " 'accuracy_std': 0.05896238207535379,\n",
              " 'recall_mean': 0.66875,\n",
              " 'precision_mean': 0.732325870793293,\n",
              " 'f1_mean': 0.6207464801199938}"
            ]
          },
          "metadata": {},
          "execution_count": 24
        }
      ]
    },
    {
      "cell_type": "markdown",
      "id": "b70e117f-711b-4997-9cb0-311b1871319e",
      "metadata": {
        "id": "b70e117f-711b-4997-9cb0-311b1871319e"
      },
      "source": [
        "### Compare All Models with Cross Validation"
      ]
    },
    {
      "cell_type": "code",
      "execution_count": null,
      "id": "bc5cd0c3-0591-4fd5-93a4-6e57a87979b0",
      "metadata": {
        "id": "bc5cd0c3-0591-4fd5-93a4-6e57a87979b0"
      },
      "outputs": [],
      "source": [
        "from sklearn.linear_model import LogisticRegression\n",
        "from sklearn.svm import SVC\n",
        "from sklearn.neighbors import KNeighborsClassifier\n",
        "from sklearn.naive_bayes import MultinomialNB\n",
        "from sklearn.neural_network import MLPClassifier\n",
        "from sklearn.tree import DecisionTreeClassifier\n",
        "from sklearn.ensemble import RandomForestClassifier\n",
        "from sklearn.ensemble import GradientBoostingClassifier\n",
        "from sklearn.ensemble import AdaBoostClassifier\n",
        "from sklearn import model_selection"
      ]
    },
    {
      "cell_type": "code",
      "source": [
        "X = df[[\"text_clean\"]] # input feature\n",
        "Y = df[\"label\"] # output feature\n",
        "\n",
        "# split dataset to 80% train and 20% test\n",
        "X_train, X_test, y_train, y_test = train_test_split(X, Y, test_size = 0.2)\n",
        "\n",
        "X_train = X_train.reset_index().text_clean\n",
        "y_train = y_train.reset_index().label\n",
        "\n",
        "X_test = X_test.reset_index().text_clean\n",
        "y_test = y_test.reset_index().label"
      ],
      "metadata": {
        "id": "PboBAJt4_5fz"
      },
      "id": "PboBAJt4_5fz",
      "execution_count": null,
      "outputs": []
    },
    {
      "cell_type": "code",
      "execution_count": null,
      "id": "b8afa109-3747-4897-968d-caaae604aed4",
      "metadata": {
        "id": "b8afa109-3747-4897-968d-caaae604aed4"
      },
      "outputs": [],
      "source": [
        "# loading model\n",
        "models = []\n",
        "models.append(('Logistic Regression', LogisticRegression()))\n",
        "models.append(('K Nearest Neighbour', KNeighborsClassifier()))\n",
        "models.append(('Naive Bayes', MultinomialNB()))\n",
        "models.append(('Support Vector Machine', SVC()))\n",
        "models.append(('Neural Network', MLPClassifier()))\n",
        "models.append(('Decision Tree', DecisionTreeClassifier()))\n",
        "models.append(('Random Forest', RandomForestClassifier()))\n",
        "models.append(('Gradient Boosting', GradientBoostingClassifier()))\n",
        "models.append(('AdaBoost', AdaBoostClassifier()))"
      ]
    },
    {
      "cell_type": "code",
      "execution_count": null,
      "id": "d7dd76e8-291c-4a82-bc29-db41f3c17b92",
      "metadata": {
        "id": "d7dd76e8-291c-4a82-bc29-db41f3c17b92",
        "outputId": "d701e716-0b72-445c-830a-5259014ce4fa",
        "colab": {
          "base_uri": "https://localhost:8080/"
        }
      },
      "outputs": [
        {
          "output_type": "stream",
          "name": "stdout",
          "text": [
            "Logistic Regression\n",
            "{'algorithm': 'Logistic Regression', 'accuracy_per_iter': [0.78125, 0.76875, 0.79375, 0.7625, 0.775], 'accuracy_mean': 0.77625, 'accuracy_std': 0.01202211503854458, 'recall_mean': 0.77625, 'precision_mean': 0.7938504898344007, 'f1_mean': 0.7686172595569355}\n",
            "K Nearest Neighbour\n",
            "{'algorithm': 'K Nearest Neighbour', 'accuracy_per_iter': [0.7, 0.69375, 0.71875, 0.7, 0.7], 'accuracy_mean': 0.7025, 'accuracy_std': 0.009478594305064453, 'recall_mean': 0.7025, 'precision_mean': 0.7077453635566503, 'f1_mean': 0.693304403616484}\n",
            "Naive Bayes\n",
            "{'algorithm': 'Naive Bayes', 'accuracy_per_iter': [0.675, 0.625, 0.725, 0.65625, 0.7125], 'accuracy_mean': 0.67875, 'accuracy_std': 0.04088856808449031, 'recall_mean': 0.67875, 'precision_mean': 0.7420644752162837, 'f1_mean': 0.6249862234912519}\n",
            "Support Vector Machine\n",
            "{'algorithm': 'Support Vector Machine', 'accuracy_per_iter': [0.76875, 0.76875, 0.75625, 0.7125, 0.7375], 'accuracy_mean': 0.74875, 'accuracy_std': 0.02396286189085102, 'recall_mean': 0.74875, 'precision_mean': 0.791128436057234, 'f1_mean': 0.7296076919114638}\n",
            "Neural Network\n",
            "{'algorithm': 'Neural Network', 'accuracy_per_iter': [0.775, 0.75625, 0.8125, 0.78125, 0.775], 'accuracy_mean': 0.78, 'accuracy_std': 0.020444284042245162, 'recall_mean': 0.78, 'precision_mean': 0.7818759680462918, 'f1_mean': 0.7753352852267023}\n",
            "Decision Tree\n",
            "{'algorithm': 'Decision Tree', 'accuracy_per_iter': [0.625, 0.7, 0.63125, 0.63125, 0.65625], 'accuracy_mean': 0.6487499999999999, 'accuracy_std': 0.03106193409947293, 'recall_mean': 0.6487499999999999, 'precision_mean': 0.6540501640451194, 'f1_mean': 0.6494235226340633}\n",
            "Random Forest\n",
            "{'algorithm': 'Random Forest', 'accuracy_per_iter': [0.74375, 0.75625, 0.8, 0.74375, 0.7625], 'accuracy_mean': 0.76125, 'accuracy_std': 0.023133444404152194, 'recall_mean': 0.76125, 'precision_mean': 0.764317675043919, 'f1_mean': 0.7591517800105241}\n",
            "Gradient Boosting\n",
            "{'algorithm': 'Gradient Boosting', 'accuracy_per_iter': [0.775, 0.76875, 0.725, 0.68125, 0.7625], 'accuracy_mean': 0.7425, 'accuracy_std': 0.03937996000505841, 'recall_mean': 0.7425, 'precision_mean': 0.745998946373219, 'f1_mean': 0.7421464827860618}\n",
            "AdaBoost\n",
            "{'algorithm': 'AdaBoost', 'accuracy_per_iter': [0.6125, 0.6625, 0.55, 0.575, 0.5875], 'accuracy_mean': 0.5975, 'accuracy_std': 0.04275657844121766, 'recall_mean': 0.5975, 'precision_mean': 0.6245608897809296, 'f1_mean': 0.601401323296341}\n"
          ]
        }
      ],
      "source": [
        "# evaluating the model\n",
        "results = []\n",
        "for name, model in models:\n",
        "      print(name)\n",
        "      result = cross_validation(5, X_train, model, name)\n",
        "      results.append(result)\n",
        "      print(result)\n",
        "results = pd.DataFrame(results)\n",
        "results = results.sort_values(\"accuracy_mean\",ascending=False)"
      ]
    },
    {
      "cell_type": "code",
      "execution_count": null,
      "id": "8a1d1892-1b36-4ff3-b8d7-6bd65cdc49d6",
      "metadata": {
        "id": "8a1d1892-1b36-4ff3-b8d7-6bd65cdc49d6",
        "outputId": "f2062235-1668-4646-9a69-29cc137437fb",
        "colab": {
          "base_uri": "https://localhost:8080/",
          "height": 595
        }
      },
      "outputs": [
        {
          "output_type": "execute_result",
          "data": {
            "text/plain": [
              "                algorithm                            accuracy_per_iter  \\\n",
              "4          Neural Network     [0.775, 0.75625, 0.8125, 0.78125, 0.775]   \n",
              "0     Logistic Regression   [0.78125, 0.76875, 0.79375, 0.7625, 0.775]   \n",
              "6           Random Forest     [0.74375, 0.75625, 0.8, 0.74375, 0.7625]   \n",
              "3  Support Vector Machine  [0.76875, 0.76875, 0.75625, 0.7125, 0.7375]   \n",
              "7       Gradient Boosting     [0.775, 0.76875, 0.725, 0.68125, 0.7625]   \n",
              "1     K Nearest Neighbour            [0.7, 0.69375, 0.71875, 0.7, 0.7]   \n",
              "2             Naive Bayes       [0.675, 0.625, 0.725, 0.65625, 0.7125]   \n",
              "5           Decision Tree      [0.625, 0.7, 0.63125, 0.63125, 0.65625]   \n",
              "8                AdaBoost        [0.6125, 0.6625, 0.55, 0.575, 0.5875]   \n",
              "\n",
              "   accuracy_mean  accuracy_std  recall_mean  precision_mean   f1_mean  \n",
              "4        0.78000      0.020444      0.78000        0.781876  0.775335  \n",
              "0        0.77625      0.012022      0.77625        0.793850  0.768617  \n",
              "6        0.76125      0.023133      0.76125        0.764318  0.759152  \n",
              "3        0.74875      0.023963      0.74875        0.791128  0.729608  \n",
              "7        0.74250      0.039380      0.74250        0.745999  0.742146  \n",
              "1        0.70250      0.009479      0.70250        0.707745  0.693304  \n",
              "2        0.67875      0.040889      0.67875        0.742064  0.624986  \n",
              "5        0.64875      0.031062      0.64875        0.654050  0.649424  \n",
              "8        0.59750      0.042757      0.59750        0.624561  0.601401  "
            ],
            "text/html": [
              "\n",
              "  <div id=\"df-8d598bd2-c902-48dc-87d2-d5c331d41e63\" class=\"colab-df-container\">\n",
              "    <div>\n",
              "<style scoped>\n",
              "    .dataframe tbody tr th:only-of-type {\n",
              "        vertical-align: middle;\n",
              "    }\n",
              "\n",
              "    .dataframe tbody tr th {\n",
              "        vertical-align: top;\n",
              "    }\n",
              "\n",
              "    .dataframe thead th {\n",
              "        text-align: right;\n",
              "    }\n",
              "</style>\n",
              "<table border=\"1\" class=\"dataframe\">\n",
              "  <thead>\n",
              "    <tr style=\"text-align: right;\">\n",
              "      <th></th>\n",
              "      <th>algorithm</th>\n",
              "      <th>accuracy_per_iter</th>\n",
              "      <th>accuracy_mean</th>\n",
              "      <th>accuracy_std</th>\n",
              "      <th>recall_mean</th>\n",
              "      <th>precision_mean</th>\n",
              "      <th>f1_mean</th>\n",
              "    </tr>\n",
              "  </thead>\n",
              "  <tbody>\n",
              "    <tr>\n",
              "      <th>4</th>\n",
              "      <td>Neural Network</td>\n",
              "      <td>[0.775, 0.75625, 0.8125, 0.78125, 0.775]</td>\n",
              "      <td>0.78000</td>\n",
              "      <td>0.020444</td>\n",
              "      <td>0.78000</td>\n",
              "      <td>0.781876</td>\n",
              "      <td>0.775335</td>\n",
              "    </tr>\n",
              "    <tr>\n",
              "      <th>0</th>\n",
              "      <td>Logistic Regression</td>\n",
              "      <td>[0.78125, 0.76875, 0.79375, 0.7625, 0.775]</td>\n",
              "      <td>0.77625</td>\n",
              "      <td>0.012022</td>\n",
              "      <td>0.77625</td>\n",
              "      <td>0.793850</td>\n",
              "      <td>0.768617</td>\n",
              "    </tr>\n",
              "    <tr>\n",
              "      <th>6</th>\n",
              "      <td>Random Forest</td>\n",
              "      <td>[0.74375, 0.75625, 0.8, 0.74375, 0.7625]</td>\n",
              "      <td>0.76125</td>\n",
              "      <td>0.023133</td>\n",
              "      <td>0.76125</td>\n",
              "      <td>0.764318</td>\n",
              "      <td>0.759152</td>\n",
              "    </tr>\n",
              "    <tr>\n",
              "      <th>3</th>\n",
              "      <td>Support Vector Machine</td>\n",
              "      <td>[0.76875, 0.76875, 0.75625, 0.7125, 0.7375]</td>\n",
              "      <td>0.74875</td>\n",
              "      <td>0.023963</td>\n",
              "      <td>0.74875</td>\n",
              "      <td>0.791128</td>\n",
              "      <td>0.729608</td>\n",
              "    </tr>\n",
              "    <tr>\n",
              "      <th>7</th>\n",
              "      <td>Gradient Boosting</td>\n",
              "      <td>[0.775, 0.76875, 0.725, 0.68125, 0.7625]</td>\n",
              "      <td>0.74250</td>\n",
              "      <td>0.039380</td>\n",
              "      <td>0.74250</td>\n",
              "      <td>0.745999</td>\n",
              "      <td>0.742146</td>\n",
              "    </tr>\n",
              "    <tr>\n",
              "      <th>1</th>\n",
              "      <td>K Nearest Neighbour</td>\n",
              "      <td>[0.7, 0.69375, 0.71875, 0.7, 0.7]</td>\n",
              "      <td>0.70250</td>\n",
              "      <td>0.009479</td>\n",
              "      <td>0.70250</td>\n",
              "      <td>0.707745</td>\n",
              "      <td>0.693304</td>\n",
              "    </tr>\n",
              "    <tr>\n",
              "      <th>2</th>\n",
              "      <td>Naive Bayes</td>\n",
              "      <td>[0.675, 0.625, 0.725, 0.65625, 0.7125]</td>\n",
              "      <td>0.67875</td>\n",
              "      <td>0.040889</td>\n",
              "      <td>0.67875</td>\n",
              "      <td>0.742064</td>\n",
              "      <td>0.624986</td>\n",
              "    </tr>\n",
              "    <tr>\n",
              "      <th>5</th>\n",
              "      <td>Decision Tree</td>\n",
              "      <td>[0.625, 0.7, 0.63125, 0.63125, 0.65625]</td>\n",
              "      <td>0.64875</td>\n",
              "      <td>0.031062</td>\n",
              "      <td>0.64875</td>\n",
              "      <td>0.654050</td>\n",
              "      <td>0.649424</td>\n",
              "    </tr>\n",
              "    <tr>\n",
              "      <th>8</th>\n",
              "      <td>AdaBoost</td>\n",
              "      <td>[0.6125, 0.6625, 0.55, 0.575, 0.5875]</td>\n",
              "      <td>0.59750</td>\n",
              "      <td>0.042757</td>\n",
              "      <td>0.59750</td>\n",
              "      <td>0.624561</td>\n",
              "      <td>0.601401</td>\n",
              "    </tr>\n",
              "  </tbody>\n",
              "</table>\n",
              "</div>\n",
              "    <div class=\"colab-df-buttons\">\n",
              "\n",
              "  <div class=\"colab-df-container\">\n",
              "    <button class=\"colab-df-convert\" onclick=\"convertToInteractive('df-8d598bd2-c902-48dc-87d2-d5c331d41e63')\"\n",
              "            title=\"Convert this dataframe to an interactive table.\"\n",
              "            style=\"display:none;\">\n",
              "\n",
              "  <svg xmlns=\"http://www.w3.org/2000/svg\" height=\"24px\" viewBox=\"0 -960 960 960\">\n",
              "    <path d=\"M120-120v-720h720v720H120Zm60-500h600v-160H180v160Zm220 220h160v-160H400v160Zm0 220h160v-160H400v160ZM180-400h160v-160H180v160Zm440 0h160v-160H620v160ZM180-180h160v-160H180v160Zm440 0h160v-160H620v160Z\"/>\n",
              "  </svg>\n",
              "    </button>\n",
              "\n",
              "  <style>\n",
              "    .colab-df-container {\n",
              "      display:flex;\n",
              "      gap: 12px;\n",
              "    }\n",
              "\n",
              "    .colab-df-convert {\n",
              "      background-color: #E8F0FE;\n",
              "      border: none;\n",
              "      border-radius: 50%;\n",
              "      cursor: pointer;\n",
              "      display: none;\n",
              "      fill: #1967D2;\n",
              "      height: 32px;\n",
              "      padding: 0 0 0 0;\n",
              "      width: 32px;\n",
              "    }\n",
              "\n",
              "    .colab-df-convert:hover {\n",
              "      background-color: #E2EBFA;\n",
              "      box-shadow: 0px 1px 2px rgba(60, 64, 67, 0.3), 0px 1px 3px 1px rgba(60, 64, 67, 0.15);\n",
              "      fill: #174EA6;\n",
              "    }\n",
              "\n",
              "    .colab-df-buttons div {\n",
              "      margin-bottom: 4px;\n",
              "    }\n",
              "\n",
              "    [theme=dark] .colab-df-convert {\n",
              "      background-color: #3B4455;\n",
              "      fill: #D2E3FC;\n",
              "    }\n",
              "\n",
              "    [theme=dark] .colab-df-convert:hover {\n",
              "      background-color: #434B5C;\n",
              "      box-shadow: 0px 1px 3px 1px rgba(0, 0, 0, 0.15);\n",
              "      filter: drop-shadow(0px 1px 2px rgba(0, 0, 0, 0.3));\n",
              "      fill: #FFFFFF;\n",
              "    }\n",
              "  </style>\n",
              "\n",
              "    <script>\n",
              "      const buttonEl =\n",
              "        document.querySelector('#df-8d598bd2-c902-48dc-87d2-d5c331d41e63 button.colab-df-convert');\n",
              "      buttonEl.style.display =\n",
              "        google.colab.kernel.accessAllowed ? 'block' : 'none';\n",
              "\n",
              "      async function convertToInteractive(key) {\n",
              "        const element = document.querySelector('#df-8d598bd2-c902-48dc-87d2-d5c331d41e63');\n",
              "        const dataTable =\n",
              "          await google.colab.kernel.invokeFunction('convertToInteractive',\n",
              "                                                    [key], {});\n",
              "        if (!dataTable) return;\n",
              "\n",
              "        const docLinkHtml = 'Like what you see? Visit the ' +\n",
              "          '<a target=\"_blank\" href=https://colab.research.google.com/notebooks/data_table.ipynb>data table notebook</a>'\n",
              "          + ' to learn more about interactive tables.';\n",
              "        element.innerHTML = '';\n",
              "        dataTable['output_type'] = 'display_data';\n",
              "        await google.colab.output.renderOutput(dataTable, element);\n",
              "        const docLink = document.createElement('div');\n",
              "        docLink.innerHTML = docLinkHtml;\n",
              "        element.appendChild(docLink);\n",
              "      }\n",
              "    </script>\n",
              "  </div>\n",
              "\n",
              "\n",
              "<div id=\"df-f51260d0-8d61-4743-86ff-b9a7db9df9e8\">\n",
              "  <button class=\"colab-df-quickchart\" onclick=\"quickchart('df-f51260d0-8d61-4743-86ff-b9a7db9df9e8')\"\n",
              "            title=\"Suggest charts\"\n",
              "            style=\"display:none;\">\n",
              "\n",
              "<svg xmlns=\"http://www.w3.org/2000/svg\" height=\"24px\"viewBox=\"0 0 24 24\"\n",
              "     width=\"24px\">\n",
              "    <g>\n",
              "        <path d=\"M19 3H5c-1.1 0-2 .9-2 2v14c0 1.1.9 2 2 2h14c1.1 0 2-.9 2-2V5c0-1.1-.9-2-2-2zM9 17H7v-7h2v7zm4 0h-2V7h2v10zm4 0h-2v-4h2v4z\"/>\n",
              "    </g>\n",
              "</svg>\n",
              "  </button>\n",
              "\n",
              "<style>\n",
              "  .colab-df-quickchart {\n",
              "      --bg-color: #E8F0FE;\n",
              "      --fill-color: #1967D2;\n",
              "      --hover-bg-color: #E2EBFA;\n",
              "      --hover-fill-color: #174EA6;\n",
              "      --disabled-fill-color: #AAA;\n",
              "      --disabled-bg-color: #DDD;\n",
              "  }\n",
              "\n",
              "  [theme=dark] .colab-df-quickchart {\n",
              "      --bg-color: #3B4455;\n",
              "      --fill-color: #D2E3FC;\n",
              "      --hover-bg-color: #434B5C;\n",
              "      --hover-fill-color: #FFFFFF;\n",
              "      --disabled-bg-color: #3B4455;\n",
              "      --disabled-fill-color: #666;\n",
              "  }\n",
              "\n",
              "  .colab-df-quickchart {\n",
              "    background-color: var(--bg-color);\n",
              "    border: none;\n",
              "    border-radius: 50%;\n",
              "    cursor: pointer;\n",
              "    display: none;\n",
              "    fill: var(--fill-color);\n",
              "    height: 32px;\n",
              "    padding: 0;\n",
              "    width: 32px;\n",
              "  }\n",
              "\n",
              "  .colab-df-quickchart:hover {\n",
              "    background-color: var(--hover-bg-color);\n",
              "    box-shadow: 0 1px 2px rgba(60, 64, 67, 0.3), 0 1px 3px 1px rgba(60, 64, 67, 0.15);\n",
              "    fill: var(--button-hover-fill-color);\n",
              "  }\n",
              "\n",
              "  .colab-df-quickchart-complete:disabled,\n",
              "  .colab-df-quickchart-complete:disabled:hover {\n",
              "    background-color: var(--disabled-bg-color);\n",
              "    fill: var(--disabled-fill-color);\n",
              "    box-shadow: none;\n",
              "  }\n",
              "\n",
              "  .colab-df-spinner {\n",
              "    border: 2px solid var(--fill-color);\n",
              "    border-color: transparent;\n",
              "    border-bottom-color: var(--fill-color);\n",
              "    animation:\n",
              "      spin 1s steps(1) infinite;\n",
              "  }\n",
              "\n",
              "  @keyframes spin {\n",
              "    0% {\n",
              "      border-color: transparent;\n",
              "      border-bottom-color: var(--fill-color);\n",
              "      border-left-color: var(--fill-color);\n",
              "    }\n",
              "    20% {\n",
              "      border-color: transparent;\n",
              "      border-left-color: var(--fill-color);\n",
              "      border-top-color: var(--fill-color);\n",
              "    }\n",
              "    30% {\n",
              "      border-color: transparent;\n",
              "      border-left-color: var(--fill-color);\n",
              "      border-top-color: var(--fill-color);\n",
              "      border-right-color: var(--fill-color);\n",
              "    }\n",
              "    40% {\n",
              "      border-color: transparent;\n",
              "      border-right-color: var(--fill-color);\n",
              "      border-top-color: var(--fill-color);\n",
              "    }\n",
              "    60% {\n",
              "      border-color: transparent;\n",
              "      border-right-color: var(--fill-color);\n",
              "    }\n",
              "    80% {\n",
              "      border-color: transparent;\n",
              "      border-right-color: var(--fill-color);\n",
              "      border-bottom-color: var(--fill-color);\n",
              "    }\n",
              "    90% {\n",
              "      border-color: transparent;\n",
              "      border-bottom-color: var(--fill-color);\n",
              "    }\n",
              "  }\n",
              "</style>\n",
              "\n",
              "  <script>\n",
              "    async function quickchart(key) {\n",
              "      const quickchartButtonEl =\n",
              "        document.querySelector('#' + key + ' button');\n",
              "      quickchartButtonEl.disabled = true;  // To prevent multiple clicks.\n",
              "      quickchartButtonEl.classList.add('colab-df-spinner');\n",
              "      try {\n",
              "        const charts = await google.colab.kernel.invokeFunction(\n",
              "            'suggestCharts', [key], {});\n",
              "      } catch (error) {\n",
              "        console.error('Error during call to suggestCharts:', error);\n",
              "      }\n",
              "      quickchartButtonEl.classList.remove('colab-df-spinner');\n",
              "      quickchartButtonEl.classList.add('colab-df-quickchart-complete');\n",
              "    }\n",
              "    (() => {\n",
              "      let quickchartButtonEl =\n",
              "        document.querySelector('#df-f51260d0-8d61-4743-86ff-b9a7db9df9e8 button');\n",
              "      quickchartButtonEl.style.display =\n",
              "        google.colab.kernel.accessAllowed ? 'block' : 'none';\n",
              "    })();\n",
              "  </script>\n",
              "</div>\n",
              "    </div>\n",
              "  </div>\n"
            ]
          },
          "metadata": {},
          "execution_count": 29
        }
      ],
      "source": [
        "results"
      ]
    },
    {
      "cell_type": "markdown",
      "source": [
        "### Select model with the best performance"
      ],
      "metadata": {
        "id": "JloHywP82kOA"
      },
      "id": "JloHywP82kOA"
    },
    {
      "cell_type": "code",
      "source": [
        "# convert to feature\n",
        "tfidf_vect = TfidfVectorizer()\n",
        "X_train = tfidf_vect.fit_transform(X_train)\n",
        "\n",
        "# model training menggunakan neural network\n",
        "model = LogisticRegression()\n",
        "model.fit(X_train, y_train)\n",
        "\n",
        "print(\"Training selesai\")\n",
        "\n",
        "# save model to pickle\n",
        "pickle.dump(model, open(\"model_classification.p\", \"wb\"))"
      ],
      "metadata": {
        "colab": {
          "base_uri": "https://localhost:8080/"
        },
        "id": "Uqj-O7Ou23bp",
        "outputId": "81b49a12-d87f-4df7-a064-8341a8bfa89f"
      },
      "id": "Uqj-O7Ou23bp",
      "execution_count": null,
      "outputs": [
        {
          "output_type": "stream",
          "name": "stdout",
          "text": [
            "Training selesai\n"
          ]
        }
      ]
    },
    {
      "cell_type": "code",
      "source": [
        "X_test = tfidf_vect.transform(X_test)\n",
        "\n",
        "test = model.predict(X_test)\n",
        "print (\"Testing selesai\")\n",
        "print(classification_report(y_test, test))"
      ],
      "metadata": {
        "colab": {
          "base_uri": "https://localhost:8080/"
        },
        "id": "DXSCXHrZ2nbx",
        "outputId": "f0c0ef3f-448f-4b13-b440-da63b4d2ca4d"
      },
      "id": "DXSCXHrZ2nbx",
      "execution_count": null,
      "outputs": [
        {
          "output_type": "stream",
          "name": "stdout",
          "text": [
            "Testing selesai\n",
            "              precision    recall  f1-score   support\n",
            "\n",
            "    negative       0.79      0.83      0.81        83\n",
            "     neutral       0.71      0.64      0.68        39\n",
            "    positive       0.86      0.86      0.86        78\n",
            "\n",
            "    accuracy                           0.81       200\n",
            "   macro avg       0.79      0.78      0.78       200\n",
            "weighted avg       0.80      0.81      0.80       200\n",
            "\n"
          ]
        }
      ]
    },
    {
      "cell_type": "markdown",
      "id": "a8430253-f75e-433c-b287-b379620b3c88",
      "metadata": {
        "id": "a8430253-f75e-433c-b287-b379620b3c88"
      },
      "source": [
        "## Prediksi data baru"
      ]
    },
    {
      "cell_type": "code",
      "execution_count": null,
      "id": "7ee76371-a0a1-4d59-b9ad-7854a3cf1e29",
      "metadata": {
        "id": "7ee76371-a0a1-4d59-b9ad-7854a3cf1e29",
        "outputId": "d78c3ab9-bd88-4f7a-fec3-bc48e75ffb2d",
        "colab": {
          "base_uri": "https://localhost:8080/"
        }
      },
      "outputs": [
        {
          "output_type": "stream",
          "name": "stdout",
          "text": [
            "Sentiment: positive\n"
          ]
        }
      ],
      "source": [
        "input_text = \"Paling senang banget makan siang di sini\"\n",
        "\n",
        "# normalize text\n",
        "text = tfidf_vect.transform([cleansing(input_text)])\n",
        "\n",
        "# predict data baru menggunakan model yang telah dibuat\n",
        "result = model.predict(text)[0]\n",
        "\n",
        "print(\"Sentiment:\", result)"
      ]
    },
    {
      "cell_type": "markdown",
      "id": "aa2c2e47-eae0-4fa0-99b6-b095e0ff15a3",
      "metadata": {
        "id": "aa2c2e47-eae0-4fa0-99b6-b095e0ff15a3"
      },
      "source": [
        "# REGRESSION"
      ]
    },
    {
      "cell_type": "markdown",
      "id": "3835ecd1-c59d-4ee5-81e5-9c26f4b97a23",
      "metadata": {
        "id": "3835ecd1-c59d-4ee5-81e5-9c26f4b97a23"
      },
      "source": [
        "## Prepare Dataset"
      ]
    },
    {
      "cell_type": "code",
      "execution_count": null,
      "id": "d4e221d1-527a-4ff1-bfff-2f7f61080103",
      "metadata": {
        "colab": {
          "base_uri": "https://localhost:8080/",
          "height": 530
        },
        "id": "d4e221d1-527a-4ff1-bfff-2f7f61080103",
        "outputId": "ac362e3c-3923-40b6-eee5-f4bc1dee02d8"
      },
      "outputs": [
        {
          "output_type": "execute_result",
          "data": {
            "text/plain": [
              "     Unnamed: 0  symboling  normalized-losses         make fuel-type  \\\n",
              "0             0          3                122  alfa-romero       gas   \n",
              "1             1          3                122  alfa-romero       gas   \n",
              "2             2          1                122  alfa-romero       gas   \n",
              "3             3          2                164         audi       gas   \n",
              "4             4          2                164         audi       gas   \n",
              "..          ...        ...                ...          ...       ...   \n",
              "196         196         -1                 95        volvo       gas   \n",
              "197         197         -1                 95        volvo       gas   \n",
              "198         198         -1                 95        volvo       gas   \n",
              "199         199         -1                 95        volvo    diesel   \n",
              "200         200         -1                 95        volvo       gas   \n",
              "\n",
              "    aspiration num-of-doors   body-style drive-wheels engine-location  ...  \\\n",
              "0          std          two  convertible          rwd           front  ...   \n",
              "1          std          two  convertible          rwd           front  ...   \n",
              "2          std          two    hatchback          rwd           front  ...   \n",
              "3          std         four        sedan          fwd           front  ...   \n",
              "4          std         four        sedan          4wd           front  ...   \n",
              "..         ...          ...          ...          ...             ...  ...   \n",
              "196        std         four        sedan          rwd           front  ...   \n",
              "197      turbo         four        sedan          rwd           front  ...   \n",
              "198        std         four        sedan          rwd           front  ...   \n",
              "199      turbo         four        sedan          rwd           front  ...   \n",
              "200      turbo         four        sedan          rwd           front  ...   \n",
              "\n",
              "     bore  stroke  compression-ratio  horsepower  peak-rpm city-mpg  \\\n",
              "0    3.47    2.68                9.0       111.0    5000.0       21   \n",
              "1    3.47    2.68                9.0       111.0    5000.0       21   \n",
              "2    2.68    3.47                9.0       154.0    5000.0       19   \n",
              "3    3.19    3.40               10.0       102.0    5500.0       24   \n",
              "4    3.19    3.40                8.0       115.0    5500.0       18   \n",
              "..    ...     ...                ...         ...       ...      ...   \n",
              "196  3.78    3.15                9.5       114.0    5400.0       23   \n",
              "197  3.78    3.15                8.7       160.0    5300.0       19   \n",
              "198  3.58    2.87                8.8       134.0    5500.0       18   \n",
              "199  3.01    3.40               23.0       106.0    4800.0       26   \n",
              "200  3.78    3.15                9.5       114.0    5400.0       19   \n",
              "\n",
              "    highway-mpg    price city-L/100km  horsepower-binned  \n",
              "0            27  13495.0    11.190476             Medium  \n",
              "1            27  16500.0    11.190476             Medium  \n",
              "2            26  16500.0    12.368421             Medium  \n",
              "3            30  13950.0     9.791667             Medium  \n",
              "4            22  17450.0    13.055556             Medium  \n",
              "..          ...      ...          ...                ...  \n",
              "196          28  16845.0    10.217391             Medium  \n",
              "197          25  19045.0    12.368421               High  \n",
              "198          23  21485.0    13.055556             Medium  \n",
              "199          27  22470.0     9.038462             Medium  \n",
              "200          25  22625.0    12.368421             Medium  \n",
              "\n",
              "[201 rows x 29 columns]"
            ],
            "text/html": [
              "\n",
              "  <div id=\"df-024c4074-49df-4474-a739-57fcd8f7b988\" class=\"colab-df-container\">\n",
              "    <div>\n",
              "<style scoped>\n",
              "    .dataframe tbody tr th:only-of-type {\n",
              "        vertical-align: middle;\n",
              "    }\n",
              "\n",
              "    .dataframe tbody tr th {\n",
              "        vertical-align: top;\n",
              "    }\n",
              "\n",
              "    .dataframe thead th {\n",
              "        text-align: right;\n",
              "    }\n",
              "</style>\n",
              "<table border=\"1\" class=\"dataframe\">\n",
              "  <thead>\n",
              "    <tr style=\"text-align: right;\">\n",
              "      <th></th>\n",
              "      <th>Unnamed: 0</th>\n",
              "      <th>symboling</th>\n",
              "      <th>normalized-losses</th>\n",
              "      <th>make</th>\n",
              "      <th>fuel-type</th>\n",
              "      <th>aspiration</th>\n",
              "      <th>num-of-doors</th>\n",
              "      <th>body-style</th>\n",
              "      <th>drive-wheels</th>\n",
              "      <th>engine-location</th>\n",
              "      <th>...</th>\n",
              "      <th>bore</th>\n",
              "      <th>stroke</th>\n",
              "      <th>compression-ratio</th>\n",
              "      <th>horsepower</th>\n",
              "      <th>peak-rpm</th>\n",
              "      <th>city-mpg</th>\n",
              "      <th>highway-mpg</th>\n",
              "      <th>price</th>\n",
              "      <th>city-L/100km</th>\n",
              "      <th>horsepower-binned</th>\n",
              "    </tr>\n",
              "  </thead>\n",
              "  <tbody>\n",
              "    <tr>\n",
              "      <th>0</th>\n",
              "      <td>0</td>\n",
              "      <td>3</td>\n",
              "      <td>122</td>\n",
              "      <td>alfa-romero</td>\n",
              "      <td>gas</td>\n",
              "      <td>std</td>\n",
              "      <td>two</td>\n",
              "      <td>convertible</td>\n",
              "      <td>rwd</td>\n",
              "      <td>front</td>\n",
              "      <td>...</td>\n",
              "      <td>3.47</td>\n",
              "      <td>2.68</td>\n",
              "      <td>9.0</td>\n",
              "      <td>111.0</td>\n",
              "      <td>5000.0</td>\n",
              "      <td>21</td>\n",
              "      <td>27</td>\n",
              "      <td>13495.0</td>\n",
              "      <td>11.190476</td>\n",
              "      <td>Medium</td>\n",
              "    </tr>\n",
              "    <tr>\n",
              "      <th>1</th>\n",
              "      <td>1</td>\n",
              "      <td>3</td>\n",
              "      <td>122</td>\n",
              "      <td>alfa-romero</td>\n",
              "      <td>gas</td>\n",
              "      <td>std</td>\n",
              "      <td>two</td>\n",
              "      <td>convertible</td>\n",
              "      <td>rwd</td>\n",
              "      <td>front</td>\n",
              "      <td>...</td>\n",
              "      <td>3.47</td>\n",
              "      <td>2.68</td>\n",
              "      <td>9.0</td>\n",
              "      <td>111.0</td>\n",
              "      <td>5000.0</td>\n",
              "      <td>21</td>\n",
              "      <td>27</td>\n",
              "      <td>16500.0</td>\n",
              "      <td>11.190476</td>\n",
              "      <td>Medium</td>\n",
              "    </tr>\n",
              "    <tr>\n",
              "      <th>2</th>\n",
              "      <td>2</td>\n",
              "      <td>1</td>\n",
              "      <td>122</td>\n",
              "      <td>alfa-romero</td>\n",
              "      <td>gas</td>\n",
              "      <td>std</td>\n",
              "      <td>two</td>\n",
              "      <td>hatchback</td>\n",
              "      <td>rwd</td>\n",
              "      <td>front</td>\n",
              "      <td>...</td>\n",
              "      <td>2.68</td>\n",
              "      <td>3.47</td>\n",
              "      <td>9.0</td>\n",
              "      <td>154.0</td>\n",
              "      <td>5000.0</td>\n",
              "      <td>19</td>\n",
              "      <td>26</td>\n",
              "      <td>16500.0</td>\n",
              "      <td>12.368421</td>\n",
              "      <td>Medium</td>\n",
              "    </tr>\n",
              "    <tr>\n",
              "      <th>3</th>\n",
              "      <td>3</td>\n",
              "      <td>2</td>\n",
              "      <td>164</td>\n",
              "      <td>audi</td>\n",
              "      <td>gas</td>\n",
              "      <td>std</td>\n",
              "      <td>four</td>\n",
              "      <td>sedan</td>\n",
              "      <td>fwd</td>\n",
              "      <td>front</td>\n",
              "      <td>...</td>\n",
              "      <td>3.19</td>\n",
              "      <td>3.40</td>\n",
              "      <td>10.0</td>\n",
              "      <td>102.0</td>\n",
              "      <td>5500.0</td>\n",
              "      <td>24</td>\n",
              "      <td>30</td>\n",
              "      <td>13950.0</td>\n",
              "      <td>9.791667</td>\n",
              "      <td>Medium</td>\n",
              "    </tr>\n",
              "    <tr>\n",
              "      <th>4</th>\n",
              "      <td>4</td>\n",
              "      <td>2</td>\n",
              "      <td>164</td>\n",
              "      <td>audi</td>\n",
              "      <td>gas</td>\n",
              "      <td>std</td>\n",
              "      <td>four</td>\n",
              "      <td>sedan</td>\n",
              "      <td>4wd</td>\n",
              "      <td>front</td>\n",
              "      <td>...</td>\n",
              "      <td>3.19</td>\n",
              "      <td>3.40</td>\n",
              "      <td>8.0</td>\n",
              "      <td>115.0</td>\n",
              "      <td>5500.0</td>\n",
              "      <td>18</td>\n",
              "      <td>22</td>\n",
              "      <td>17450.0</td>\n",
              "      <td>13.055556</td>\n",
              "      <td>Medium</td>\n",
              "    </tr>\n",
              "    <tr>\n",
              "      <th>...</th>\n",
              "      <td>...</td>\n",
              "      <td>...</td>\n",
              "      <td>...</td>\n",
              "      <td>...</td>\n",
              "      <td>...</td>\n",
              "      <td>...</td>\n",
              "      <td>...</td>\n",
              "      <td>...</td>\n",
              "      <td>...</td>\n",
              "      <td>...</td>\n",
              "      <td>...</td>\n",
              "      <td>...</td>\n",
              "      <td>...</td>\n",
              "      <td>...</td>\n",
              "      <td>...</td>\n",
              "      <td>...</td>\n",
              "      <td>...</td>\n",
              "      <td>...</td>\n",
              "      <td>...</td>\n",
              "      <td>...</td>\n",
              "      <td>...</td>\n",
              "    </tr>\n",
              "    <tr>\n",
              "      <th>196</th>\n",
              "      <td>196</td>\n",
              "      <td>-1</td>\n",
              "      <td>95</td>\n",
              "      <td>volvo</td>\n",
              "      <td>gas</td>\n",
              "      <td>std</td>\n",
              "      <td>four</td>\n",
              "      <td>sedan</td>\n",
              "      <td>rwd</td>\n",
              "      <td>front</td>\n",
              "      <td>...</td>\n",
              "      <td>3.78</td>\n",
              "      <td>3.15</td>\n",
              "      <td>9.5</td>\n",
              "      <td>114.0</td>\n",
              "      <td>5400.0</td>\n",
              "      <td>23</td>\n",
              "      <td>28</td>\n",
              "      <td>16845.0</td>\n",
              "      <td>10.217391</td>\n",
              "      <td>Medium</td>\n",
              "    </tr>\n",
              "    <tr>\n",
              "      <th>197</th>\n",
              "      <td>197</td>\n",
              "      <td>-1</td>\n",
              "      <td>95</td>\n",
              "      <td>volvo</td>\n",
              "      <td>gas</td>\n",
              "      <td>turbo</td>\n",
              "      <td>four</td>\n",
              "      <td>sedan</td>\n",
              "      <td>rwd</td>\n",
              "      <td>front</td>\n",
              "      <td>...</td>\n",
              "      <td>3.78</td>\n",
              "      <td>3.15</td>\n",
              "      <td>8.7</td>\n",
              "      <td>160.0</td>\n",
              "      <td>5300.0</td>\n",
              "      <td>19</td>\n",
              "      <td>25</td>\n",
              "      <td>19045.0</td>\n",
              "      <td>12.368421</td>\n",
              "      <td>High</td>\n",
              "    </tr>\n",
              "    <tr>\n",
              "      <th>198</th>\n",
              "      <td>198</td>\n",
              "      <td>-1</td>\n",
              "      <td>95</td>\n",
              "      <td>volvo</td>\n",
              "      <td>gas</td>\n",
              "      <td>std</td>\n",
              "      <td>four</td>\n",
              "      <td>sedan</td>\n",
              "      <td>rwd</td>\n",
              "      <td>front</td>\n",
              "      <td>...</td>\n",
              "      <td>3.58</td>\n",
              "      <td>2.87</td>\n",
              "      <td>8.8</td>\n",
              "      <td>134.0</td>\n",
              "      <td>5500.0</td>\n",
              "      <td>18</td>\n",
              "      <td>23</td>\n",
              "      <td>21485.0</td>\n",
              "      <td>13.055556</td>\n",
              "      <td>Medium</td>\n",
              "    </tr>\n",
              "    <tr>\n",
              "      <th>199</th>\n",
              "      <td>199</td>\n",
              "      <td>-1</td>\n",
              "      <td>95</td>\n",
              "      <td>volvo</td>\n",
              "      <td>diesel</td>\n",
              "      <td>turbo</td>\n",
              "      <td>four</td>\n",
              "      <td>sedan</td>\n",
              "      <td>rwd</td>\n",
              "      <td>front</td>\n",
              "      <td>...</td>\n",
              "      <td>3.01</td>\n",
              "      <td>3.40</td>\n",
              "      <td>23.0</td>\n",
              "      <td>106.0</td>\n",
              "      <td>4800.0</td>\n",
              "      <td>26</td>\n",
              "      <td>27</td>\n",
              "      <td>22470.0</td>\n",
              "      <td>9.038462</td>\n",
              "      <td>Medium</td>\n",
              "    </tr>\n",
              "    <tr>\n",
              "      <th>200</th>\n",
              "      <td>200</td>\n",
              "      <td>-1</td>\n",
              "      <td>95</td>\n",
              "      <td>volvo</td>\n",
              "      <td>gas</td>\n",
              "      <td>turbo</td>\n",
              "      <td>four</td>\n",
              "      <td>sedan</td>\n",
              "      <td>rwd</td>\n",
              "      <td>front</td>\n",
              "      <td>...</td>\n",
              "      <td>3.78</td>\n",
              "      <td>3.15</td>\n",
              "      <td>9.5</td>\n",
              "      <td>114.0</td>\n",
              "      <td>5400.0</td>\n",
              "      <td>19</td>\n",
              "      <td>25</td>\n",
              "      <td>22625.0</td>\n",
              "      <td>12.368421</td>\n",
              "      <td>Medium</td>\n",
              "    </tr>\n",
              "  </tbody>\n",
              "</table>\n",
              "<p>201 rows × 29 columns</p>\n",
              "</div>\n",
              "    <div class=\"colab-df-buttons\">\n",
              "\n",
              "  <div class=\"colab-df-container\">\n",
              "    <button class=\"colab-df-convert\" onclick=\"convertToInteractive('df-024c4074-49df-4474-a739-57fcd8f7b988')\"\n",
              "            title=\"Convert this dataframe to an interactive table.\"\n",
              "            style=\"display:none;\">\n",
              "\n",
              "  <svg xmlns=\"http://www.w3.org/2000/svg\" height=\"24px\" viewBox=\"0 -960 960 960\">\n",
              "    <path d=\"M120-120v-720h720v720H120Zm60-500h600v-160H180v160Zm220 220h160v-160H400v160Zm0 220h160v-160H400v160ZM180-400h160v-160H180v160Zm440 0h160v-160H620v160ZM180-180h160v-160H180v160Zm440 0h160v-160H620v160Z\"/>\n",
              "  </svg>\n",
              "    </button>\n",
              "\n",
              "  <style>\n",
              "    .colab-df-container {\n",
              "      display:flex;\n",
              "      gap: 12px;\n",
              "    }\n",
              "\n",
              "    .colab-df-convert {\n",
              "      background-color: #E8F0FE;\n",
              "      border: none;\n",
              "      border-radius: 50%;\n",
              "      cursor: pointer;\n",
              "      display: none;\n",
              "      fill: #1967D2;\n",
              "      height: 32px;\n",
              "      padding: 0 0 0 0;\n",
              "      width: 32px;\n",
              "    }\n",
              "\n",
              "    .colab-df-convert:hover {\n",
              "      background-color: #E2EBFA;\n",
              "      box-shadow: 0px 1px 2px rgba(60, 64, 67, 0.3), 0px 1px 3px 1px rgba(60, 64, 67, 0.15);\n",
              "      fill: #174EA6;\n",
              "    }\n",
              "\n",
              "    .colab-df-buttons div {\n",
              "      margin-bottom: 4px;\n",
              "    }\n",
              "\n",
              "    [theme=dark] .colab-df-convert {\n",
              "      background-color: #3B4455;\n",
              "      fill: #D2E3FC;\n",
              "    }\n",
              "\n",
              "    [theme=dark] .colab-df-convert:hover {\n",
              "      background-color: #434B5C;\n",
              "      box-shadow: 0px 1px 3px 1px rgba(0, 0, 0, 0.15);\n",
              "      filter: drop-shadow(0px 1px 2px rgba(0, 0, 0, 0.3));\n",
              "      fill: #FFFFFF;\n",
              "    }\n",
              "  </style>\n",
              "\n",
              "    <script>\n",
              "      const buttonEl =\n",
              "        document.querySelector('#df-024c4074-49df-4474-a739-57fcd8f7b988 button.colab-df-convert');\n",
              "      buttonEl.style.display =\n",
              "        google.colab.kernel.accessAllowed ? 'block' : 'none';\n",
              "\n",
              "      async function convertToInteractive(key) {\n",
              "        const element = document.querySelector('#df-024c4074-49df-4474-a739-57fcd8f7b988');\n",
              "        const dataTable =\n",
              "          await google.colab.kernel.invokeFunction('convertToInteractive',\n",
              "                                                    [key], {});\n",
              "        if (!dataTable) return;\n",
              "\n",
              "        const docLinkHtml = 'Like what you see? Visit the ' +\n",
              "          '<a target=\"_blank\" href=https://colab.research.google.com/notebooks/data_table.ipynb>data table notebook</a>'\n",
              "          + ' to learn more about interactive tables.';\n",
              "        element.innerHTML = '';\n",
              "        dataTable['output_type'] = 'display_data';\n",
              "        await google.colab.output.renderOutput(dataTable, element);\n",
              "        const docLink = document.createElement('div');\n",
              "        docLink.innerHTML = docLinkHtml;\n",
              "        element.appendChild(docLink);\n",
              "      }\n",
              "    </script>\n",
              "  </div>\n",
              "\n",
              "\n",
              "<div id=\"df-f702f002-ec10-4c95-a217-452739602a06\">\n",
              "  <button class=\"colab-df-quickchart\" onclick=\"quickchart('df-f702f002-ec10-4c95-a217-452739602a06')\"\n",
              "            title=\"Suggest charts\"\n",
              "            style=\"display:none;\">\n",
              "\n",
              "<svg xmlns=\"http://www.w3.org/2000/svg\" height=\"24px\"viewBox=\"0 0 24 24\"\n",
              "     width=\"24px\">\n",
              "    <g>\n",
              "        <path d=\"M19 3H5c-1.1 0-2 .9-2 2v14c0 1.1.9 2 2 2h14c1.1 0 2-.9 2-2V5c0-1.1-.9-2-2-2zM9 17H7v-7h2v7zm4 0h-2V7h2v10zm4 0h-2v-4h2v4z\"/>\n",
              "    </g>\n",
              "</svg>\n",
              "  </button>\n",
              "\n",
              "<style>\n",
              "  .colab-df-quickchart {\n",
              "      --bg-color: #E8F0FE;\n",
              "      --fill-color: #1967D2;\n",
              "      --hover-bg-color: #E2EBFA;\n",
              "      --hover-fill-color: #174EA6;\n",
              "      --disabled-fill-color: #AAA;\n",
              "      --disabled-bg-color: #DDD;\n",
              "  }\n",
              "\n",
              "  [theme=dark] .colab-df-quickchart {\n",
              "      --bg-color: #3B4455;\n",
              "      --fill-color: #D2E3FC;\n",
              "      --hover-bg-color: #434B5C;\n",
              "      --hover-fill-color: #FFFFFF;\n",
              "      --disabled-bg-color: #3B4455;\n",
              "      --disabled-fill-color: #666;\n",
              "  }\n",
              "\n",
              "  .colab-df-quickchart {\n",
              "    background-color: var(--bg-color);\n",
              "    border: none;\n",
              "    border-radius: 50%;\n",
              "    cursor: pointer;\n",
              "    display: none;\n",
              "    fill: var(--fill-color);\n",
              "    height: 32px;\n",
              "    padding: 0;\n",
              "    width: 32px;\n",
              "  }\n",
              "\n",
              "  .colab-df-quickchart:hover {\n",
              "    background-color: var(--hover-bg-color);\n",
              "    box-shadow: 0 1px 2px rgba(60, 64, 67, 0.3), 0 1px 3px 1px rgba(60, 64, 67, 0.15);\n",
              "    fill: var(--button-hover-fill-color);\n",
              "  }\n",
              "\n",
              "  .colab-df-quickchart-complete:disabled,\n",
              "  .colab-df-quickchart-complete:disabled:hover {\n",
              "    background-color: var(--disabled-bg-color);\n",
              "    fill: var(--disabled-fill-color);\n",
              "    box-shadow: none;\n",
              "  }\n",
              "\n",
              "  .colab-df-spinner {\n",
              "    border: 2px solid var(--fill-color);\n",
              "    border-color: transparent;\n",
              "    border-bottom-color: var(--fill-color);\n",
              "    animation:\n",
              "      spin 1s steps(1) infinite;\n",
              "  }\n",
              "\n",
              "  @keyframes spin {\n",
              "    0% {\n",
              "      border-color: transparent;\n",
              "      border-bottom-color: var(--fill-color);\n",
              "      border-left-color: var(--fill-color);\n",
              "    }\n",
              "    20% {\n",
              "      border-color: transparent;\n",
              "      border-left-color: var(--fill-color);\n",
              "      border-top-color: var(--fill-color);\n",
              "    }\n",
              "    30% {\n",
              "      border-color: transparent;\n",
              "      border-left-color: var(--fill-color);\n",
              "      border-top-color: var(--fill-color);\n",
              "      border-right-color: var(--fill-color);\n",
              "    }\n",
              "    40% {\n",
              "      border-color: transparent;\n",
              "      border-right-color: var(--fill-color);\n",
              "      border-top-color: var(--fill-color);\n",
              "    }\n",
              "    60% {\n",
              "      border-color: transparent;\n",
              "      border-right-color: var(--fill-color);\n",
              "    }\n",
              "    80% {\n",
              "      border-color: transparent;\n",
              "      border-right-color: var(--fill-color);\n",
              "      border-bottom-color: var(--fill-color);\n",
              "    }\n",
              "    90% {\n",
              "      border-color: transparent;\n",
              "      border-bottom-color: var(--fill-color);\n",
              "    }\n",
              "  }\n",
              "</style>\n",
              "\n",
              "  <script>\n",
              "    async function quickchart(key) {\n",
              "      const quickchartButtonEl =\n",
              "        document.querySelector('#' + key + ' button');\n",
              "      quickchartButtonEl.disabled = true;  // To prevent multiple clicks.\n",
              "      quickchartButtonEl.classList.add('colab-df-spinner');\n",
              "      try {\n",
              "        const charts = await google.colab.kernel.invokeFunction(\n",
              "            'suggestCharts', [key], {});\n",
              "      } catch (error) {\n",
              "        console.error('Error during call to suggestCharts:', error);\n",
              "      }\n",
              "      quickchartButtonEl.classList.remove('colab-df-spinner');\n",
              "      quickchartButtonEl.classList.add('colab-df-quickchart-complete');\n",
              "    }\n",
              "    (() => {\n",
              "      let quickchartButtonEl =\n",
              "        document.querySelector('#df-f702f002-ec10-4c95-a217-452739602a06 button');\n",
              "      quickchartButtonEl.style.display =\n",
              "        google.colab.kernel.accessAllowed ? 'block' : 'none';\n",
              "    })();\n",
              "  </script>\n",
              "</div>\n",
              "    </div>\n",
              "  </div>\n"
            ]
          },
          "metadata": {},
          "execution_count": 410
        }
      ],
      "source": [
        "df = pd.read_csv(\"Data Harga Mobil.csv\")\n",
        "df"
      ]
    },
    {
      "cell_type": "markdown",
      "id": "6b6fee3f-32b7-4873-a958-4ef52481b137",
      "metadata": {
        "id": "6b6fee3f-32b7-4873-a958-4ef52481b137"
      },
      "source": [
        "## Prepare Train and Test Dataset"
      ]
    },
    {
      "cell_type": "code",
      "execution_count": null,
      "id": "e1677957-fc79-4f74-b285-d53ff5532874",
      "metadata": {
        "id": "e1677957-fc79-4f74-b285-d53ff5532874"
      },
      "outputs": [],
      "source": [
        "from sklearn.model_selection import train_test_split"
      ]
    },
    {
      "cell_type": "code",
      "execution_count": null,
      "id": "2e212338-33d1-45c1-bc88-1ea2846e1275",
      "metadata": {
        "id": "2e212338-33d1-45c1-bc88-1ea2846e1275"
      },
      "outputs": [],
      "source": [
        "X = df[[\"highway-mpg\"]] # input feature\n",
        "# X = df[[\"horsepower\",\"curb-weight\",\"engine-size\",\"highway-mpg\"]]\n",
        "Y = df[\"price\"] # output feature\n",
        "\n",
        "# split dataset to 80% train and 20% test\n",
        "X_train, X_test, y_train, y_test = train_test_split(X, Y, test_size = 0.2)"
      ]
    },
    {
      "cell_type": "code",
      "execution_count": null,
      "id": "29960531-d462-434c-8b4e-5091d257bd29",
      "metadata": {
        "id": "29960531-d462-434c-8b4e-5091d257bd29",
        "outputId": "870fd242-ffa8-4574-a79f-107119478332",
        "colab": {
          "base_uri": "https://localhost:8080/"
        }
      },
      "outputs": [
        {
          "output_type": "stream",
          "name": "stdout",
          "text": [
            "(160, 1)\n",
            "(160,)\n",
            "(41, 1)\n",
            "(41,)\n"
          ]
        }
      ],
      "source": [
        "print(X_train.shape)\n",
        "print(y_train.shape)\n",
        "print(X_test.shape)\n",
        "print(y_test.shape)"
      ]
    },
    {
      "cell_type": "markdown",
      "id": "bf51ee1f-5738-4e75-8582-2bf4b0bbdcb6",
      "metadata": {
        "id": "bf51ee1f-5738-4e75-8582-2bf4b0bbdcb6"
      },
      "source": [
        "## Model Training"
      ]
    },
    {
      "cell_type": "code",
      "execution_count": null,
      "id": "390ee0de-74e0-4049-a459-035cf9808107",
      "metadata": {
        "id": "390ee0de-74e0-4049-a459-035cf9808107"
      },
      "outputs": [],
      "source": [
        "from sklearn.linear_model import LinearRegression"
      ]
    },
    {
      "cell_type": "code",
      "execution_count": null,
      "id": "f9558210-094f-44fd-9ef4-459200e3a985",
      "metadata": {
        "colab": {
          "base_uri": "https://localhost:8080/",
          "height": 75
        },
        "id": "f9558210-094f-44fd-9ef4-459200e3a985",
        "outputId": "65ac88d5-7029-467a-db58-4f1ac377b739"
      },
      "outputs": [
        {
          "output_type": "execute_result",
          "data": {
            "text/plain": [
              "LinearRegression()"
            ],
            "text/html": [
              "<style>#sk-container-id-5 {color: black;background-color: white;}#sk-container-id-5 pre{padding: 0;}#sk-container-id-5 div.sk-toggleable {background-color: white;}#sk-container-id-5 label.sk-toggleable__label {cursor: pointer;display: block;width: 100%;margin-bottom: 0;padding: 0.3em;box-sizing: border-box;text-align: center;}#sk-container-id-5 label.sk-toggleable__label-arrow:before {content: \"▸\";float: left;margin-right: 0.25em;color: #696969;}#sk-container-id-5 label.sk-toggleable__label-arrow:hover:before {color: black;}#sk-container-id-5 div.sk-estimator:hover label.sk-toggleable__label-arrow:before {color: black;}#sk-container-id-5 div.sk-toggleable__content {max-height: 0;max-width: 0;overflow: hidden;text-align: left;background-color: #f0f8ff;}#sk-container-id-5 div.sk-toggleable__content pre {margin: 0.2em;color: black;border-radius: 0.25em;background-color: #f0f8ff;}#sk-container-id-5 input.sk-toggleable__control:checked~div.sk-toggleable__content {max-height: 200px;max-width: 100%;overflow: auto;}#sk-container-id-5 input.sk-toggleable__control:checked~label.sk-toggleable__label-arrow:before {content: \"▾\";}#sk-container-id-5 div.sk-estimator input.sk-toggleable__control:checked~label.sk-toggleable__label {background-color: #d4ebff;}#sk-container-id-5 div.sk-label input.sk-toggleable__control:checked~label.sk-toggleable__label {background-color: #d4ebff;}#sk-container-id-5 input.sk-hidden--visually {border: 0;clip: rect(1px 1px 1px 1px);clip: rect(1px, 1px, 1px, 1px);height: 1px;margin: -1px;overflow: hidden;padding: 0;position: absolute;width: 1px;}#sk-container-id-5 div.sk-estimator {font-family: monospace;background-color: #f0f8ff;border: 1px dotted black;border-radius: 0.25em;box-sizing: border-box;margin-bottom: 0.5em;}#sk-container-id-5 div.sk-estimator:hover {background-color: #d4ebff;}#sk-container-id-5 div.sk-parallel-item::after {content: \"\";width: 100%;border-bottom: 1px solid gray;flex-grow: 1;}#sk-container-id-5 div.sk-label:hover label.sk-toggleable__label {background-color: #d4ebff;}#sk-container-id-5 div.sk-serial::before {content: \"\";position: absolute;border-left: 1px solid gray;box-sizing: border-box;top: 0;bottom: 0;left: 50%;z-index: 0;}#sk-container-id-5 div.sk-serial {display: flex;flex-direction: column;align-items: center;background-color: white;padding-right: 0.2em;padding-left: 0.2em;position: relative;}#sk-container-id-5 div.sk-item {position: relative;z-index: 1;}#sk-container-id-5 div.sk-parallel {display: flex;align-items: stretch;justify-content: center;background-color: white;position: relative;}#sk-container-id-5 div.sk-item::before, #sk-container-id-5 div.sk-parallel-item::before {content: \"\";position: absolute;border-left: 1px solid gray;box-sizing: border-box;top: 0;bottom: 0;left: 50%;z-index: -1;}#sk-container-id-5 div.sk-parallel-item {display: flex;flex-direction: column;z-index: 1;position: relative;background-color: white;}#sk-container-id-5 div.sk-parallel-item:first-child::after {align-self: flex-end;width: 50%;}#sk-container-id-5 div.sk-parallel-item:last-child::after {align-self: flex-start;width: 50%;}#sk-container-id-5 div.sk-parallel-item:only-child::after {width: 0;}#sk-container-id-5 div.sk-dashed-wrapped {border: 1px dashed gray;margin: 0 0.4em 0.5em 0.4em;box-sizing: border-box;padding-bottom: 0.4em;background-color: white;}#sk-container-id-5 div.sk-label label {font-family: monospace;font-weight: bold;display: inline-block;line-height: 1.2em;}#sk-container-id-5 div.sk-label-container {text-align: center;}#sk-container-id-5 div.sk-container {/* jupyter's `normalize.less` sets `[hidden] { display: none; }` but bootstrap.min.css set `[hidden] { display: none !important; }` so we also need the `!important` here to be able to override the default hidden behavior on the sphinx rendered scikit-learn.org. See: https://github.com/scikit-learn/scikit-learn/issues/21755 */display: inline-block !important;position: relative;}#sk-container-id-5 div.sk-text-repr-fallback {display: none;}</style><div id=\"sk-container-id-5\" class=\"sk-top-container\"><div class=\"sk-text-repr-fallback\"><pre>LinearRegression()</pre><b>In a Jupyter environment, please rerun this cell to show the HTML representation or trust the notebook. <br />On GitHub, the HTML representation is unable to render, please try loading this page with nbviewer.org.</b></div><div class=\"sk-container\" hidden><div class=\"sk-item\"><div class=\"sk-estimator sk-toggleable\"><input class=\"sk-toggleable__control sk-hidden--visually\" id=\"sk-estimator-id-5\" type=\"checkbox\" checked><label for=\"sk-estimator-id-5\" class=\"sk-toggleable__label sk-toggleable__label-arrow\">LinearRegression</label><div class=\"sk-toggleable__content\"><pre>LinearRegression()</pre></div></div></div></div></div>"
            ]
          },
          "metadata": {},
          "execution_count": 415
        }
      ],
      "source": [
        "lm = LinearRegression()\n",
        "lm.fit(X_train, y_train)"
      ]
    },
    {
      "cell_type": "code",
      "execution_count": null,
      "id": "f88f028d-4bf1-4910-ade4-b1a156253664",
      "metadata": {
        "colab": {
          "base_uri": "https://localhost:8080/"
        },
        "id": "f88f028d-4bf1-4910-ade4-b1a156253664",
        "outputId": "a4a89458-40b3-4758-ea94-bf7fd25fc265"
      },
      "outputs": [
        {
          "output_type": "execute_result",
          "data": {
            "text/plain": [
              "37220.00976571404"
            ]
          },
          "metadata": {},
          "execution_count": 416
        }
      ],
      "source": [
        "lm.intercept_"
      ]
    },
    {
      "cell_type": "code",
      "execution_count": null,
      "id": "0f30779f-571d-4d1b-8be1-f745d56b2045",
      "metadata": {
        "colab": {
          "base_uri": "https://localhost:8080/"
        },
        "id": "0f30779f-571d-4d1b-8be1-f745d56b2045",
        "outputId": "be4b291e-5a07-4d80-a508-a42f60f53c64"
      },
      "outputs": [
        {
          "output_type": "execute_result",
          "data": {
            "text/plain": [
              "array([-785.89266058])"
            ]
          },
          "metadata": {},
          "execution_count": 417
        }
      ],
      "source": [
        "lm.coef_"
      ]
    },
    {
      "cell_type": "markdown",
      "id": "8c122684-1be1-49bc-acb5-a4ee5df132e9",
      "metadata": {
        "id": "8c122684-1be1-49bc-acb5-a4ee5df132e9"
      },
      "source": [
        "## Model Evaluation"
      ]
    },
    {
      "cell_type": "code",
      "execution_count": null,
      "id": "59b7ca07-7ca1-4ce6-b58f-b33bc832f7eb",
      "metadata": {
        "id": "59b7ca07-7ca1-4ce6-b58f-b33bc832f7eb"
      },
      "outputs": [],
      "source": [
        "from sklearn.metrics import mean_absolute_error\n",
        "from sklearn.metrics import mean_squared_error\n",
        "from sklearn.metrics import mean_absolute_percentage_error\n",
        "from sklearn.metrics import r2_score\n",
        "import math"
      ]
    },
    {
      "cell_type": "code",
      "execution_count": null,
      "id": "3d63dd49-601d-4480-a8be-d403fe7e6bcf",
      "metadata": {
        "colab": {
          "base_uri": "https://localhost:8080/"
        },
        "id": "3d63dd49-601d-4480-a8be-d403fe7e6bcf",
        "outputId": "3ae26b2d-d102-43b5-ee35-f7fa86943526"
      },
      "outputs": [
        {
          "output_type": "stream",
          "name": "stdout",
          "text": [
            "MAE:  3788.9607696107855\n",
            "RMSE:  5710.43156446088\n",
            "MAPE:  0.2715278580735554\n",
            "R2:  0.5593638465817192\n"
          ]
        }
      ],
      "source": [
        "y_hat = lm.predict(X_test)\n",
        "print(\"MAE: \", mean_absolute_error(y_test, y_hat))\n",
        "print(\"RMSE: \", math.sqrt(mean_squared_error(y_test, y_hat)))\n",
        "print(\"MAPE: \", mean_absolute_percentage_error(y_test, y_hat))\n",
        "print(\"R2: \", r2_score(y_test, y_hat))"
      ]
    },
    {
      "cell_type": "markdown",
      "source": [
        "### Cross Validation"
      ],
      "metadata": {
        "id": "_n1sSHXlrPo9"
      },
      "id": "_n1sSHXlrPo9"
    },
    {
      "cell_type": "code",
      "source": [
        "from sklearn.model_selection import KFold"
      ],
      "metadata": {
        "id": "wzpaIEVJrgRP"
      },
      "id": "wzpaIEVJrgRP",
      "execution_count": null,
      "outputs": []
    },
    {
      "cell_type": "code",
      "source": [
        "# cross validation dengan split = 5\n",
        "kf = KFold(n_splits=5, random_state=42, shuffle=True)\n",
        "\n",
        "results=[]"
      ],
      "metadata": {
        "id": "zfaDxMIJrRvJ"
      },
      "id": "zfaDxMIJrRvJ",
      "execution_count": null,
      "outputs": []
    },
    {
      "cell_type": "code",
      "source": [
        "# iterate sebanyak k cross validation\n",
        "for iteration, data in enumerate(kf.split(X_train), start=1):\n",
        "\n",
        "    # get data and target train\n",
        "    data_train = X_train.values[data[0]]\n",
        "    target_train = y_train.values[data[0]]\n",
        "\n",
        "    # get data and target test\n",
        "    data_test =  X_train.values[data[1]]\n",
        "    target_test =  y_train.values[data[1]]\n",
        "\n",
        "    # model training menggunakan data train\n",
        "    # regressor = LinearRegression()\n",
        "    regressor = LinearRegression()\n",
        "    regressor.fit(data_train, target_train)\n",
        "\n",
        "    # prediksi data test\n",
        "    preds = regressor.predict(data_test)\n",
        "\n",
        "    # menghitung accuracy\n",
        "    mae = mean_absolute_error(target_test, preds)\n",
        "    rmse = math.sqrt(mean_squared_error(target_test, preds))\n",
        "    mape = mean_absolute_percentage_error(target_test, preds)\n",
        "    r2 = r2_score(target_test, preds)\n",
        "\n",
        "    print(\"Training ke-\", iteration)\n",
        "    print(\"MAE: \", mae)\n",
        "    print(\"RMSE: \", rmse)\n",
        "    print(\"MAPE: \", mape)\n",
        "    print(\"R2: \", r2)\n",
        "    print(\"=================================================================\")\n",
        "\n",
        "    result = {'training': iteration, 'mae': mae, 'rmse': rmse, 'mape': mape,\n",
        "                'r2':r2}\n",
        "    results.append(result)\n",
        "\n",
        "results = pd.DataFrame(results)"
      ],
      "metadata": {
        "colab": {
          "base_uri": "https://localhost:8080/"
        },
        "id": "xXA2dENSrdbz",
        "outputId": "3c6e0232-f79a-48c5-fb9d-7693d73b71a2"
      },
      "id": "xXA2dENSrdbz",
      "execution_count": null,
      "outputs": [
        {
          "output_type": "stream",
          "name": "stdout",
          "text": [
            "Training ke- 1\n",
            "MAE:  4051.8593158149415\n",
            "RMSE:  5429.117400886815\n",
            "MAPE:  0.3517737100989862\n",
            "R2:  0.4904353067731366\n",
            "=================================================================\n",
            "Training ke- 2\n",
            "MAE:  5415.987340958044\n",
            "RMSE:  7661.395652656033\n",
            "MAPE:  0.37685392266158924\n",
            "R2:  0.40210312620587685\n",
            "=================================================================\n",
            "Training ke- 3\n",
            "MAE:  3693.9900464540606\n",
            "RMSE:  5040.0679180613415\n",
            "MAPE:  0.2996313491338429\n",
            "R2:  0.49011297099249773\n",
            "=================================================================\n",
            "Training ke- 4\n",
            "MAE:  3578.3172134820907\n",
            "RMSE:  5137.898728680406\n",
            "MAPE:  0.28591959365040587\n",
            "R2:  0.586016758271874\n",
            "=================================================================\n",
            "Training ke- 5\n",
            "MAE:  4182.59526049044\n",
            "RMSE:  5123.546809029184\n",
            "MAPE:  0.4236980341061571\n",
            "R2:  -0.2729396909238728\n",
            "=================================================================\n"
          ]
        }
      ]
    },
    {
      "cell_type": "code",
      "source": [
        "print(results)\n",
        "print(\"Avg MAE: \", results.mae.mean())\n",
        "print(\"Avg RMSE: \", results.rmse.mean())\n",
        "print(\"Avg MAPE: \", results.mape.mean())\n",
        "print(\"Avg R2: \", results.r2.mean())"
      ],
      "metadata": {
        "colab": {
          "base_uri": "https://localhost:8080/"
        },
        "id": "FiYn8DWCuLT0",
        "outputId": "834adb57-ccda-4b98-d60f-bfcc53d052ab"
      },
      "id": "FiYn8DWCuLT0",
      "execution_count": null,
      "outputs": [
        {
          "output_type": "stream",
          "name": "stdout",
          "text": [
            "   training          mae         rmse      mape        r2\n",
            "0         1  4051.859316  5429.117401  0.351774  0.490435\n",
            "1         2  5415.987341  7661.395653  0.376854  0.402103\n",
            "2         3  3693.990046  5040.067918  0.299631  0.490113\n",
            "3         4  3578.317213  5137.898729  0.285920  0.586017\n",
            "4         5  4182.595260  5123.546809  0.423698 -0.272940\n",
            "Avg MAE:  4184.549835439915\n",
            "Avg RMSE:  5678.405301862756\n",
            "Avg MAPE:  0.3475753219301963\n",
            "Avg R2:  0.3391456942639025\n"
          ]
        }
      ]
    },
    {
      "cell_type": "markdown",
      "id": "f99ccedd-73bb-46f1-ada2-fec22ef66bcb",
      "metadata": {
        "id": "f99ccedd-73bb-46f1-ada2-fec22ef66bcb"
      },
      "source": [
        "### Compare All Models with Cross Validation"
      ]
    },
    {
      "cell_type": "code",
      "execution_count": null,
      "id": "814abd43-b521-4462-85fe-35f3833c9f82",
      "metadata": {
        "id": "814abd43-b521-4462-85fe-35f3833c9f82"
      },
      "outputs": [],
      "source": [
        "## Regression ##\n",
        "from sklearn.linear_model import LinearRegression\n",
        "from sklearn.linear_model import Lasso\n",
        "from sklearn.svm import SVR\n",
        "from sklearn.neural_network import MLPRegressor\n",
        "from sklearn.tree import DecisionTreeRegressor\n",
        "from sklearn.ensemble import RandomForestRegressor\n",
        "from sklearn.ensemble import GradientBoostingRegressor\n",
        "from sklearn.ensemble import AdaBoostRegressor\n",
        "from sklearn import model_selection"
      ]
    },
    {
      "cell_type": "code",
      "execution_count": null,
      "id": "3514c261-4ed6-4776-8bec-8db16d9569a9",
      "metadata": {
        "id": "3514c261-4ed6-4776-8bec-8db16d9569a9"
      },
      "outputs": [],
      "source": [
        "# loading model\n",
        "models = []\n",
        "models.append(('Linear Regression', LinearRegression()))\n",
        "models.append(('Lasso', Lasso()))\n",
        "models.append(('Support Vector Machine', SVR()))\n",
        "# models.append(('Neural Network', MLPRegressor(max_iter=1000)))\n",
        "models.append(('Decision Tree', DecisionTreeRegressor()))\n",
        "models.append(('Random Forest', RandomForestRegressor()))\n",
        "models.append(('Gradient Boosting', GradientBoostingRegressor()))\n",
        "models.append(('AdaBoost', AdaBoostRegressor()))"
      ]
    },
    {
      "cell_type": "code",
      "execution_count": null,
      "id": "603a6b86-ad32-4f8b-aa47-729010df6419",
      "metadata": {
        "id": "603a6b86-ad32-4f8b-aa47-729010df6419",
        "outputId": "7bb13ee6-f00f-4a0e-abe2-bad9ab7221b6",
        "colab": {
          "base_uri": "https://localhost:8080/"
        }
      },
      "outputs": [
        {
          "output_type": "stream",
          "name": "stdout",
          "text": [
            "Linear Regression\n",
            "Lasso\n",
            "Support Vector Machine\n",
            "Decision Tree\n",
            "Random Forest\n",
            "Gradient Boosting\n",
            "AdaBoost\n"
          ]
        }
      ],
      "source": [
        "# evaluating the model\n",
        "results = []\n",
        "for name, model in models:\n",
        "      print(name)\n",
        "      kfold = model_selection.KFold(n_splits=5)\n",
        "      r2 = model_selection.cross_val_score(model, X_train, y_train, cv=kfold, scoring=\"r2\")\n",
        "      mae = model_selection.cross_val_score(model, X_train, y_train, cv=kfold, scoring=\"neg_mean_absolute_error\")\n",
        "      rmse = model_selection.cross_val_score(model, X_train, y_train, cv=kfold, scoring=\"neg_root_mean_squared_error\")\n",
        "      mape = model_selection.cross_val_score(model, X_train, y_train, cv=kfold, scoring=\"neg_mean_absolute_percentage_error\")\n",
        "      result = {'algorithm': name, 'r2_per_iter': r2, 'r2_mean': r2.mean(), 'r2_std': r2.std(),\n",
        "                'rmse_mean':rmse.mean(), 'mae_mean':mae.mean(), 'mape_mean':mape.mean()}\n",
        "      results.append(result)\n",
        "results = pd.DataFrame(results)\n",
        "results = results.sort_values(\"r2_mean\",ascending=False)"
      ]
    },
    {
      "cell_type": "code",
      "execution_count": null,
      "id": "5a8870ae-0453-469e-b356-b248139dfe5f",
      "metadata": {
        "id": "5a8870ae-0453-469e-b356-b248139dfe5f",
        "outputId": "1cb4b9ec-7db1-428a-bf83-0ff7ac6bc0aa",
        "colab": {
          "base_uri": "https://localhost:8080/",
          "height": 269
        }
      },
      "outputs": [
        {
          "output_type": "execute_result",
          "data": {
            "text/plain": [
              "                algorithm                                        r2_per_iter  \\\n",
              "4           Random Forest  [0.6985306026005755, 0.6721626378723471, 0.600...   \n",
              "5       Gradient Boosting  [0.709556476078389, 0.6565496787755732, 0.6101...   \n",
              "3           Decision Tree  [0.7099856547147397, 0.653457330404325, 0.5989...   \n",
              "6                AdaBoost  [0.7012422462991684, 0.5329106798959179, 0.579...   \n",
              "1                   Lasso  [0.46006614774671895, 0.5005417056355814, 0.23...   \n",
              "0       Linear Regression  [0.4600741198469769, 0.5005410655958454, 0.232...   \n",
              "2  Support Vector Machine  [-0.2576304340484059, -0.21578716818419652, -0...   \n",
              "\n",
              "    r2_mean    r2_std    rmse_mean     mae_mean  mape_mean  \n",
              "4  0.645107  0.081844 -4260.547537 -2696.181141  -0.205860  \n",
              "5  0.637405  0.103146 -4311.952668 -2670.910064  -0.205061  \n",
              "3  0.630974  0.109806 -4340.404663 -2689.217550  -0.206821  \n",
              "6  0.596476  0.081125 -4367.541035 -2688.354048  -0.216093  \n",
              "1  0.388150  0.140155 -5647.256439 -4108.768217  -0.340623  \n",
              "0  0.388147  0.140163 -5647.257013 -4108.766587  -0.340623  \n",
              "2 -0.154780  0.102570 -7991.966803 -5168.348503  -0.344182  "
            ],
            "text/html": [
              "\n",
              "  <div id=\"df-4c0ce63a-420c-49e1-b297-2292ed281f6c\" class=\"colab-df-container\">\n",
              "    <div>\n",
              "<style scoped>\n",
              "    .dataframe tbody tr th:only-of-type {\n",
              "        vertical-align: middle;\n",
              "    }\n",
              "\n",
              "    .dataframe tbody tr th {\n",
              "        vertical-align: top;\n",
              "    }\n",
              "\n",
              "    .dataframe thead th {\n",
              "        text-align: right;\n",
              "    }\n",
              "</style>\n",
              "<table border=\"1\" class=\"dataframe\">\n",
              "  <thead>\n",
              "    <tr style=\"text-align: right;\">\n",
              "      <th></th>\n",
              "      <th>algorithm</th>\n",
              "      <th>r2_per_iter</th>\n",
              "      <th>r2_mean</th>\n",
              "      <th>r2_std</th>\n",
              "      <th>rmse_mean</th>\n",
              "      <th>mae_mean</th>\n",
              "      <th>mape_mean</th>\n",
              "    </tr>\n",
              "  </thead>\n",
              "  <tbody>\n",
              "    <tr>\n",
              "      <th>4</th>\n",
              "      <td>Random Forest</td>\n",
              "      <td>[0.6985306026005755, 0.6721626378723471, 0.600...</td>\n",
              "      <td>0.645107</td>\n",
              "      <td>0.081844</td>\n",
              "      <td>-4260.547537</td>\n",
              "      <td>-2696.181141</td>\n",
              "      <td>-0.205860</td>\n",
              "    </tr>\n",
              "    <tr>\n",
              "      <th>5</th>\n",
              "      <td>Gradient Boosting</td>\n",
              "      <td>[0.709556476078389, 0.6565496787755732, 0.6101...</td>\n",
              "      <td>0.637405</td>\n",
              "      <td>0.103146</td>\n",
              "      <td>-4311.952668</td>\n",
              "      <td>-2670.910064</td>\n",
              "      <td>-0.205061</td>\n",
              "    </tr>\n",
              "    <tr>\n",
              "      <th>3</th>\n",
              "      <td>Decision Tree</td>\n",
              "      <td>[0.7099856547147397, 0.653457330404325, 0.5989...</td>\n",
              "      <td>0.630974</td>\n",
              "      <td>0.109806</td>\n",
              "      <td>-4340.404663</td>\n",
              "      <td>-2689.217550</td>\n",
              "      <td>-0.206821</td>\n",
              "    </tr>\n",
              "    <tr>\n",
              "      <th>6</th>\n",
              "      <td>AdaBoost</td>\n",
              "      <td>[0.7012422462991684, 0.5329106798959179, 0.579...</td>\n",
              "      <td>0.596476</td>\n",
              "      <td>0.081125</td>\n",
              "      <td>-4367.541035</td>\n",
              "      <td>-2688.354048</td>\n",
              "      <td>-0.216093</td>\n",
              "    </tr>\n",
              "    <tr>\n",
              "      <th>1</th>\n",
              "      <td>Lasso</td>\n",
              "      <td>[0.46006614774671895, 0.5005417056355814, 0.23...</td>\n",
              "      <td>0.388150</td>\n",
              "      <td>0.140155</td>\n",
              "      <td>-5647.256439</td>\n",
              "      <td>-4108.768217</td>\n",
              "      <td>-0.340623</td>\n",
              "    </tr>\n",
              "    <tr>\n",
              "      <th>0</th>\n",
              "      <td>Linear Regression</td>\n",
              "      <td>[0.4600741198469769, 0.5005410655958454, 0.232...</td>\n",
              "      <td>0.388147</td>\n",
              "      <td>0.140163</td>\n",
              "      <td>-5647.257013</td>\n",
              "      <td>-4108.766587</td>\n",
              "      <td>-0.340623</td>\n",
              "    </tr>\n",
              "    <tr>\n",
              "      <th>2</th>\n",
              "      <td>Support Vector Machine</td>\n",
              "      <td>[-0.2576304340484059, -0.21578716818419652, -0...</td>\n",
              "      <td>-0.154780</td>\n",
              "      <td>0.102570</td>\n",
              "      <td>-7991.966803</td>\n",
              "      <td>-5168.348503</td>\n",
              "      <td>-0.344182</td>\n",
              "    </tr>\n",
              "  </tbody>\n",
              "</table>\n",
              "</div>\n",
              "    <div class=\"colab-df-buttons\">\n",
              "\n",
              "  <div class=\"colab-df-container\">\n",
              "    <button class=\"colab-df-convert\" onclick=\"convertToInteractive('df-4c0ce63a-420c-49e1-b297-2292ed281f6c')\"\n",
              "            title=\"Convert this dataframe to an interactive table.\"\n",
              "            style=\"display:none;\">\n",
              "\n",
              "  <svg xmlns=\"http://www.w3.org/2000/svg\" height=\"24px\" viewBox=\"0 -960 960 960\">\n",
              "    <path d=\"M120-120v-720h720v720H120Zm60-500h600v-160H180v160Zm220 220h160v-160H400v160Zm0 220h160v-160H400v160ZM180-400h160v-160H180v160Zm440 0h160v-160H620v160ZM180-180h160v-160H180v160Zm440 0h160v-160H620v160Z\"/>\n",
              "  </svg>\n",
              "    </button>\n",
              "\n",
              "  <style>\n",
              "    .colab-df-container {\n",
              "      display:flex;\n",
              "      gap: 12px;\n",
              "    }\n",
              "\n",
              "    .colab-df-convert {\n",
              "      background-color: #E8F0FE;\n",
              "      border: none;\n",
              "      border-radius: 50%;\n",
              "      cursor: pointer;\n",
              "      display: none;\n",
              "      fill: #1967D2;\n",
              "      height: 32px;\n",
              "      padding: 0 0 0 0;\n",
              "      width: 32px;\n",
              "    }\n",
              "\n",
              "    .colab-df-convert:hover {\n",
              "      background-color: #E2EBFA;\n",
              "      box-shadow: 0px 1px 2px rgba(60, 64, 67, 0.3), 0px 1px 3px 1px rgba(60, 64, 67, 0.15);\n",
              "      fill: #174EA6;\n",
              "    }\n",
              "\n",
              "    .colab-df-buttons div {\n",
              "      margin-bottom: 4px;\n",
              "    }\n",
              "\n",
              "    [theme=dark] .colab-df-convert {\n",
              "      background-color: #3B4455;\n",
              "      fill: #D2E3FC;\n",
              "    }\n",
              "\n",
              "    [theme=dark] .colab-df-convert:hover {\n",
              "      background-color: #434B5C;\n",
              "      box-shadow: 0px 1px 3px 1px rgba(0, 0, 0, 0.15);\n",
              "      filter: drop-shadow(0px 1px 2px rgba(0, 0, 0, 0.3));\n",
              "      fill: #FFFFFF;\n",
              "    }\n",
              "  </style>\n",
              "\n",
              "    <script>\n",
              "      const buttonEl =\n",
              "        document.querySelector('#df-4c0ce63a-420c-49e1-b297-2292ed281f6c button.colab-df-convert');\n",
              "      buttonEl.style.display =\n",
              "        google.colab.kernel.accessAllowed ? 'block' : 'none';\n",
              "\n",
              "      async function convertToInteractive(key) {\n",
              "        const element = document.querySelector('#df-4c0ce63a-420c-49e1-b297-2292ed281f6c');\n",
              "        const dataTable =\n",
              "          await google.colab.kernel.invokeFunction('convertToInteractive',\n",
              "                                                    [key], {});\n",
              "        if (!dataTable) return;\n",
              "\n",
              "        const docLinkHtml = 'Like what you see? Visit the ' +\n",
              "          '<a target=\"_blank\" href=https://colab.research.google.com/notebooks/data_table.ipynb>data table notebook</a>'\n",
              "          + ' to learn more about interactive tables.';\n",
              "        element.innerHTML = '';\n",
              "        dataTable['output_type'] = 'display_data';\n",
              "        await google.colab.output.renderOutput(dataTable, element);\n",
              "        const docLink = document.createElement('div');\n",
              "        docLink.innerHTML = docLinkHtml;\n",
              "        element.appendChild(docLink);\n",
              "      }\n",
              "    </script>\n",
              "  </div>\n",
              "\n",
              "\n",
              "<div id=\"df-c7fe28f8-8d8f-49b5-b0fc-119241032e96\">\n",
              "  <button class=\"colab-df-quickchart\" onclick=\"quickchart('df-c7fe28f8-8d8f-49b5-b0fc-119241032e96')\"\n",
              "            title=\"Suggest charts\"\n",
              "            style=\"display:none;\">\n",
              "\n",
              "<svg xmlns=\"http://www.w3.org/2000/svg\" height=\"24px\"viewBox=\"0 0 24 24\"\n",
              "     width=\"24px\">\n",
              "    <g>\n",
              "        <path d=\"M19 3H5c-1.1 0-2 .9-2 2v14c0 1.1.9 2 2 2h14c1.1 0 2-.9 2-2V5c0-1.1-.9-2-2-2zM9 17H7v-7h2v7zm4 0h-2V7h2v10zm4 0h-2v-4h2v4z\"/>\n",
              "    </g>\n",
              "</svg>\n",
              "  </button>\n",
              "\n",
              "<style>\n",
              "  .colab-df-quickchart {\n",
              "      --bg-color: #E8F0FE;\n",
              "      --fill-color: #1967D2;\n",
              "      --hover-bg-color: #E2EBFA;\n",
              "      --hover-fill-color: #174EA6;\n",
              "      --disabled-fill-color: #AAA;\n",
              "      --disabled-bg-color: #DDD;\n",
              "  }\n",
              "\n",
              "  [theme=dark] .colab-df-quickchart {\n",
              "      --bg-color: #3B4455;\n",
              "      --fill-color: #D2E3FC;\n",
              "      --hover-bg-color: #434B5C;\n",
              "      --hover-fill-color: #FFFFFF;\n",
              "      --disabled-bg-color: #3B4455;\n",
              "      --disabled-fill-color: #666;\n",
              "  }\n",
              "\n",
              "  .colab-df-quickchart {\n",
              "    background-color: var(--bg-color);\n",
              "    border: none;\n",
              "    border-radius: 50%;\n",
              "    cursor: pointer;\n",
              "    display: none;\n",
              "    fill: var(--fill-color);\n",
              "    height: 32px;\n",
              "    padding: 0;\n",
              "    width: 32px;\n",
              "  }\n",
              "\n",
              "  .colab-df-quickchart:hover {\n",
              "    background-color: var(--hover-bg-color);\n",
              "    box-shadow: 0 1px 2px rgba(60, 64, 67, 0.3), 0 1px 3px 1px rgba(60, 64, 67, 0.15);\n",
              "    fill: var(--button-hover-fill-color);\n",
              "  }\n",
              "\n",
              "  .colab-df-quickchart-complete:disabled,\n",
              "  .colab-df-quickchart-complete:disabled:hover {\n",
              "    background-color: var(--disabled-bg-color);\n",
              "    fill: var(--disabled-fill-color);\n",
              "    box-shadow: none;\n",
              "  }\n",
              "\n",
              "  .colab-df-spinner {\n",
              "    border: 2px solid var(--fill-color);\n",
              "    border-color: transparent;\n",
              "    border-bottom-color: var(--fill-color);\n",
              "    animation:\n",
              "      spin 1s steps(1) infinite;\n",
              "  }\n",
              "\n",
              "  @keyframes spin {\n",
              "    0% {\n",
              "      border-color: transparent;\n",
              "      border-bottom-color: var(--fill-color);\n",
              "      border-left-color: var(--fill-color);\n",
              "    }\n",
              "    20% {\n",
              "      border-color: transparent;\n",
              "      border-left-color: var(--fill-color);\n",
              "      border-top-color: var(--fill-color);\n",
              "    }\n",
              "    30% {\n",
              "      border-color: transparent;\n",
              "      border-left-color: var(--fill-color);\n",
              "      border-top-color: var(--fill-color);\n",
              "      border-right-color: var(--fill-color);\n",
              "    }\n",
              "    40% {\n",
              "      border-color: transparent;\n",
              "      border-right-color: var(--fill-color);\n",
              "      border-top-color: var(--fill-color);\n",
              "    }\n",
              "    60% {\n",
              "      border-color: transparent;\n",
              "      border-right-color: var(--fill-color);\n",
              "    }\n",
              "    80% {\n",
              "      border-color: transparent;\n",
              "      border-right-color: var(--fill-color);\n",
              "      border-bottom-color: var(--fill-color);\n",
              "    }\n",
              "    90% {\n",
              "      border-color: transparent;\n",
              "      border-bottom-color: var(--fill-color);\n",
              "    }\n",
              "  }\n",
              "</style>\n",
              "\n",
              "  <script>\n",
              "    async function quickchart(key) {\n",
              "      const quickchartButtonEl =\n",
              "        document.querySelector('#' + key + ' button');\n",
              "      quickchartButtonEl.disabled = true;  // To prevent multiple clicks.\n",
              "      quickchartButtonEl.classList.add('colab-df-spinner');\n",
              "      try {\n",
              "        const charts = await google.colab.kernel.invokeFunction(\n",
              "            'suggestCharts', [key], {});\n",
              "      } catch (error) {\n",
              "        console.error('Error during call to suggestCharts:', error);\n",
              "      }\n",
              "      quickchartButtonEl.classList.remove('colab-df-spinner');\n",
              "      quickchartButtonEl.classList.add('colab-df-quickchart-complete');\n",
              "    }\n",
              "    (() => {\n",
              "      let quickchartButtonEl =\n",
              "        document.querySelector('#df-c7fe28f8-8d8f-49b5-b0fc-119241032e96 button');\n",
              "      quickchartButtonEl.style.display =\n",
              "        google.colab.kernel.accessAllowed ? 'block' : 'none';\n",
              "    })();\n",
              "  </script>\n",
              "</div>\n",
              "    </div>\n",
              "  </div>\n"
            ]
          },
          "metadata": {},
          "execution_count": 427
        }
      ],
      "source": [
        "results"
      ]
    },
    {
      "cell_type": "markdown",
      "source": [
        "### Select model with the best performance"
      ],
      "metadata": {
        "id": "HD_CZ1Pyvyob"
      },
      "id": "HD_CZ1Pyvyob"
    },
    {
      "cell_type": "code",
      "source": [
        "rf = RandomForestRegressor()\n",
        "rf.fit(X_train, y_train)"
      ],
      "metadata": {
        "colab": {
          "base_uri": "https://localhost:8080/",
          "height": 75
        },
        "id": "p8ngnWwgvyE3",
        "outputId": "ef8f9f48-32ef-4a51-d52c-c0367b9d0545"
      },
      "id": "p8ngnWwgvyE3",
      "execution_count": null,
      "outputs": [
        {
          "output_type": "execute_result",
          "data": {
            "text/plain": [
              "RandomForestRegressor()"
            ],
            "text/html": [
              "<style>#sk-container-id-6 {color: black;background-color: white;}#sk-container-id-6 pre{padding: 0;}#sk-container-id-6 div.sk-toggleable {background-color: white;}#sk-container-id-6 label.sk-toggleable__label {cursor: pointer;display: block;width: 100%;margin-bottom: 0;padding: 0.3em;box-sizing: border-box;text-align: center;}#sk-container-id-6 label.sk-toggleable__label-arrow:before {content: \"▸\";float: left;margin-right: 0.25em;color: #696969;}#sk-container-id-6 label.sk-toggleable__label-arrow:hover:before {color: black;}#sk-container-id-6 div.sk-estimator:hover label.sk-toggleable__label-arrow:before {color: black;}#sk-container-id-6 div.sk-toggleable__content {max-height: 0;max-width: 0;overflow: hidden;text-align: left;background-color: #f0f8ff;}#sk-container-id-6 div.sk-toggleable__content pre {margin: 0.2em;color: black;border-radius: 0.25em;background-color: #f0f8ff;}#sk-container-id-6 input.sk-toggleable__control:checked~div.sk-toggleable__content {max-height: 200px;max-width: 100%;overflow: auto;}#sk-container-id-6 input.sk-toggleable__control:checked~label.sk-toggleable__label-arrow:before {content: \"▾\";}#sk-container-id-6 div.sk-estimator input.sk-toggleable__control:checked~label.sk-toggleable__label {background-color: #d4ebff;}#sk-container-id-6 div.sk-label input.sk-toggleable__control:checked~label.sk-toggleable__label {background-color: #d4ebff;}#sk-container-id-6 input.sk-hidden--visually {border: 0;clip: rect(1px 1px 1px 1px);clip: rect(1px, 1px, 1px, 1px);height: 1px;margin: -1px;overflow: hidden;padding: 0;position: absolute;width: 1px;}#sk-container-id-6 div.sk-estimator {font-family: monospace;background-color: #f0f8ff;border: 1px dotted black;border-radius: 0.25em;box-sizing: border-box;margin-bottom: 0.5em;}#sk-container-id-6 div.sk-estimator:hover {background-color: #d4ebff;}#sk-container-id-6 div.sk-parallel-item::after {content: \"\";width: 100%;border-bottom: 1px solid gray;flex-grow: 1;}#sk-container-id-6 div.sk-label:hover label.sk-toggleable__label {background-color: #d4ebff;}#sk-container-id-6 div.sk-serial::before {content: \"\";position: absolute;border-left: 1px solid gray;box-sizing: border-box;top: 0;bottom: 0;left: 50%;z-index: 0;}#sk-container-id-6 div.sk-serial {display: flex;flex-direction: column;align-items: center;background-color: white;padding-right: 0.2em;padding-left: 0.2em;position: relative;}#sk-container-id-6 div.sk-item {position: relative;z-index: 1;}#sk-container-id-6 div.sk-parallel {display: flex;align-items: stretch;justify-content: center;background-color: white;position: relative;}#sk-container-id-6 div.sk-item::before, #sk-container-id-6 div.sk-parallel-item::before {content: \"\";position: absolute;border-left: 1px solid gray;box-sizing: border-box;top: 0;bottom: 0;left: 50%;z-index: -1;}#sk-container-id-6 div.sk-parallel-item {display: flex;flex-direction: column;z-index: 1;position: relative;background-color: white;}#sk-container-id-6 div.sk-parallel-item:first-child::after {align-self: flex-end;width: 50%;}#sk-container-id-6 div.sk-parallel-item:last-child::after {align-self: flex-start;width: 50%;}#sk-container-id-6 div.sk-parallel-item:only-child::after {width: 0;}#sk-container-id-6 div.sk-dashed-wrapped {border: 1px dashed gray;margin: 0 0.4em 0.5em 0.4em;box-sizing: border-box;padding-bottom: 0.4em;background-color: white;}#sk-container-id-6 div.sk-label label {font-family: monospace;font-weight: bold;display: inline-block;line-height: 1.2em;}#sk-container-id-6 div.sk-label-container {text-align: center;}#sk-container-id-6 div.sk-container {/* jupyter's `normalize.less` sets `[hidden] { display: none; }` but bootstrap.min.css set `[hidden] { display: none !important; }` so we also need the `!important` here to be able to override the default hidden behavior on the sphinx rendered scikit-learn.org. See: https://github.com/scikit-learn/scikit-learn/issues/21755 */display: inline-block !important;position: relative;}#sk-container-id-6 div.sk-text-repr-fallback {display: none;}</style><div id=\"sk-container-id-6\" class=\"sk-top-container\"><div class=\"sk-text-repr-fallback\"><pre>RandomForestRegressor()</pre><b>In a Jupyter environment, please rerun this cell to show the HTML representation or trust the notebook. <br />On GitHub, the HTML representation is unable to render, please try loading this page with nbviewer.org.</b></div><div class=\"sk-container\" hidden><div class=\"sk-item\"><div class=\"sk-estimator sk-toggleable\"><input class=\"sk-toggleable__control sk-hidden--visually\" id=\"sk-estimator-id-6\" type=\"checkbox\" checked><label for=\"sk-estimator-id-6\" class=\"sk-toggleable__label sk-toggleable__label-arrow\">RandomForestRegressor</label><div class=\"sk-toggleable__content\"><pre>RandomForestRegressor()</pre></div></div></div></div></div>"
            ]
          },
          "metadata": {},
          "execution_count": 428
        }
      ]
    },
    {
      "cell_type": "code",
      "source": [
        "y_hat = rf.predict(X_test)\n",
        "print(\"MAE: \", mean_absolute_error(y_test, y_hat))\n",
        "print(\"RMSE: \", math.sqrt(mean_squared_error(y_test, y_hat)))\n",
        "print(\"MAPE: \", mean_absolute_percentage_error(y_test, y_hat))\n",
        "print(\"R2: \", r2_score(y_test, y_hat))"
      ],
      "metadata": {
        "colab": {
          "base_uri": "https://localhost:8080/"
        },
        "id": "7RuON5z3wEPb",
        "outputId": "4cf79bf3-fcf9-470f-f89b-61e01f514789"
      },
      "id": "7RuON5z3wEPb",
      "execution_count": null,
      "outputs": [
        {
          "output_type": "stream",
          "name": "stdout",
          "text": [
            "MAE:  2937.145014081523\n",
            "RMSE:  4250.832830843901\n",
            "MAPE:  0.20110888875262553\n",
            "R2:  0.7558311165184596\n"
          ]
        }
      ]
    },
    {
      "cell_type": "markdown",
      "id": "3fa38aa6-ca2d-4573-b61c-f99bb0d95aa7",
      "metadata": {
        "id": "3fa38aa6-ca2d-4573-b61c-f99bb0d95aa7"
      },
      "source": [
        "## Prediksi data baru"
      ]
    },
    {
      "cell_type": "markdown",
      "id": "5b75f517-d437-48fa-93c8-788d168c868c",
      "metadata": {
        "id": "5b75f517-d437-48fa-93c8-788d168c868c"
      },
      "source": [
        "### 1 variabel"
      ]
    },
    {
      "cell_type": "code",
      "execution_count": null,
      "id": "c14b9738-92d0-44f5-9f13-12771e61fdbd",
      "metadata": {
        "colab": {
          "base_uri": "https://localhost:8080/"
        },
        "id": "c14b9738-92d0-44f5-9f13-12771e61fdbd",
        "outputId": "292f9f3c-ad1c-448c-979e-bdb15b637a93"
      },
      "outputs": [
        {
          "output_type": "stream",
          "name": "stderr",
          "text": [
            "/usr/local/lib/python3.10/dist-packages/sklearn/base.py:439: UserWarning: X does not have valid feature names, but LinearRegression was fitted with feature names\n",
            "  warnings.warn(\n"
          ]
        },
        {
          "output_type": "execute_result",
          "data": {
            "text/plain": [
              "array([13643.22994842])"
            ]
          },
          "metadata": {},
          "execution_count": 430
        }
      ],
      "source": [
        "data_prediksi = [[30]]\n",
        "lm.predict(data_prediksi)"
      ]
    },
    {
      "cell_type": "code",
      "execution_count": null,
      "id": "ae308dce-6ee0-4cbc-b259-91b34ffce923",
      "metadata": {
        "id": "ae308dce-6ee0-4cbc-b259-91b34ffce923",
        "outputId": "a95d2938-6dfc-4174-ce6c-579ec4f16a2e",
        "colab": {
          "base_uri": "https://localhost:8080/"
        }
      },
      "outputs": [
        {
          "output_type": "stream",
          "name": "stderr",
          "text": [
            "/usr/local/lib/python3.10/dist-packages/sklearn/base.py:439: UserWarning: X does not have valid feature names, but RandomForestRegressor was fitted with feature names\n",
            "  warnings.warn(\n"
          ]
        },
        {
          "output_type": "execute_result",
          "data": {
            "text/plain": [
              "array([10034.33785918])"
            ]
          },
          "metadata": {},
          "execution_count": 431
        }
      ],
      "source": [
        "rf.predict(data_prediksi)"
      ]
    },
    {
      "cell_type": "markdown",
      "id": "8b5bda08-edde-4bd5-821d-6c52e18d7bc6",
      "metadata": {
        "id": "8b5bda08-edde-4bd5-821d-6c52e18d7bc6"
      },
      "source": [
        "### 4 variabel"
      ]
    },
    {
      "cell_type": "code",
      "execution_count": null,
      "id": "5e2bfda9-66c0-45f4-acf1-d891dc8fd97f",
      "metadata": {
        "id": "5e2bfda9-66c0-45f4-acf1-d891dc8fd97f",
        "outputId": "acd3664d-8395-4ed9-a256-0b0110b407c9",
        "colab": {
          "base_uri": "https://localhost:8080/",
          "height": 394
        }
      },
      "outputs": [
        {
          "output_type": "stream",
          "name": "stderr",
          "text": [
            "/usr/local/lib/python3.10/dist-packages/sklearn/base.py:439: UserWarning: X does not have valid feature names, but LinearRegression was fitted with feature names\n",
            "  warnings.warn(\n"
          ]
        },
        {
          "output_type": "error",
          "ename": "ValueError",
          "evalue": "ignored",
          "traceback": [
            "\u001b[0;31m---------------------------------------------------------------------------\u001b[0m",
            "\u001b[0;31mValueError\u001b[0m                                Traceback (most recent call last)",
            "\u001b[0;32m<ipython-input-432-603409bd1017>\u001b[0m in \u001b[0;36m<cell line: 2>\u001b[0;34m()\u001b[0m\n\u001b[1;32m      1\u001b[0m \u001b[0mdata_prediksi\u001b[0m \u001b[0;34m=\u001b[0m \u001b[0;34m[\u001b[0m\u001b[0;34m[\u001b[0m\u001b[0;36m100\u001b[0m\u001b[0;34m,\u001b[0m \u001b[0;36m2525\u001b[0m\u001b[0;34m,\u001b[0m \u001b[0;36m100\u001b[0m\u001b[0;34m,\u001b[0m \u001b[0;36m30\u001b[0m\u001b[0;34m]\u001b[0m\u001b[0;34m]\u001b[0m\u001b[0;34m\u001b[0m\u001b[0;34m\u001b[0m\u001b[0m\n\u001b[0;32m----> 2\u001b[0;31m \u001b[0mlm\u001b[0m\u001b[0;34m.\u001b[0m\u001b[0mpredict\u001b[0m\u001b[0;34m(\u001b[0m\u001b[0mdata_prediksi\u001b[0m\u001b[0;34m)\u001b[0m\u001b[0;34m\u001b[0m\u001b[0;34m\u001b[0m\u001b[0m\n\u001b[0m",
            "\u001b[0;32m/usr/local/lib/python3.10/dist-packages/sklearn/linear_model/_base.py\u001b[0m in \u001b[0;36mpredict\u001b[0;34m(self, X)\u001b[0m\n\u001b[1;32m    352\u001b[0m             \u001b[0mReturns\u001b[0m \u001b[0mpredicted\u001b[0m \u001b[0mvalues\u001b[0m\u001b[0;34m.\u001b[0m\u001b[0;34m\u001b[0m\u001b[0;34m\u001b[0m\u001b[0m\n\u001b[1;32m    353\u001b[0m         \"\"\"\n\u001b[0;32m--> 354\u001b[0;31m         \u001b[0;32mreturn\u001b[0m \u001b[0mself\u001b[0m\u001b[0;34m.\u001b[0m\u001b[0m_decision_function\u001b[0m\u001b[0;34m(\u001b[0m\u001b[0mX\u001b[0m\u001b[0;34m)\u001b[0m\u001b[0;34m\u001b[0m\u001b[0;34m\u001b[0m\u001b[0m\n\u001b[0m\u001b[1;32m    355\u001b[0m \u001b[0;34m\u001b[0m\u001b[0m\n\u001b[1;32m    356\u001b[0m     \u001b[0;32mdef\u001b[0m \u001b[0m_set_intercept\u001b[0m\u001b[0;34m(\u001b[0m\u001b[0mself\u001b[0m\u001b[0;34m,\u001b[0m \u001b[0mX_offset\u001b[0m\u001b[0;34m,\u001b[0m \u001b[0my_offset\u001b[0m\u001b[0;34m,\u001b[0m \u001b[0mX_scale\u001b[0m\u001b[0;34m)\u001b[0m\u001b[0;34m:\u001b[0m\u001b[0;34m\u001b[0m\u001b[0;34m\u001b[0m\u001b[0m\n",
            "\u001b[0;32m/usr/local/lib/python3.10/dist-packages/sklearn/linear_model/_base.py\u001b[0m in \u001b[0;36m_decision_function\u001b[0;34m(self, X)\u001b[0m\n\u001b[1;32m    335\u001b[0m         \u001b[0mcheck_is_fitted\u001b[0m\u001b[0;34m(\u001b[0m\u001b[0mself\u001b[0m\u001b[0;34m)\u001b[0m\u001b[0;34m\u001b[0m\u001b[0;34m\u001b[0m\u001b[0m\n\u001b[1;32m    336\u001b[0m \u001b[0;34m\u001b[0m\u001b[0m\n\u001b[0;32m--> 337\u001b[0;31m         \u001b[0mX\u001b[0m \u001b[0;34m=\u001b[0m \u001b[0mself\u001b[0m\u001b[0;34m.\u001b[0m\u001b[0m_validate_data\u001b[0m\u001b[0;34m(\u001b[0m\u001b[0mX\u001b[0m\u001b[0;34m,\u001b[0m \u001b[0maccept_sparse\u001b[0m\u001b[0;34m=\u001b[0m\u001b[0;34m[\u001b[0m\u001b[0;34m\"csr\"\u001b[0m\u001b[0;34m,\u001b[0m \u001b[0;34m\"csc\"\u001b[0m\u001b[0;34m,\u001b[0m \u001b[0;34m\"coo\"\u001b[0m\u001b[0;34m]\u001b[0m\u001b[0;34m,\u001b[0m \u001b[0mreset\u001b[0m\u001b[0;34m=\u001b[0m\u001b[0;32mFalse\u001b[0m\u001b[0;34m)\u001b[0m\u001b[0;34m\u001b[0m\u001b[0;34m\u001b[0m\u001b[0m\n\u001b[0m\u001b[1;32m    338\u001b[0m         \u001b[0;32mreturn\u001b[0m \u001b[0msafe_sparse_dot\u001b[0m\u001b[0;34m(\u001b[0m\u001b[0mX\u001b[0m\u001b[0;34m,\u001b[0m \u001b[0mself\u001b[0m\u001b[0;34m.\u001b[0m\u001b[0mcoef_\u001b[0m\u001b[0;34m.\u001b[0m\u001b[0mT\u001b[0m\u001b[0;34m,\u001b[0m \u001b[0mdense_output\u001b[0m\u001b[0;34m=\u001b[0m\u001b[0;32mTrue\u001b[0m\u001b[0;34m)\u001b[0m \u001b[0;34m+\u001b[0m \u001b[0mself\u001b[0m\u001b[0;34m.\u001b[0m\u001b[0mintercept_\u001b[0m\u001b[0;34m\u001b[0m\u001b[0;34m\u001b[0m\u001b[0m\n\u001b[1;32m    339\u001b[0m \u001b[0;34m\u001b[0m\u001b[0m\n",
            "\u001b[0;32m/usr/local/lib/python3.10/dist-packages/sklearn/base.py\u001b[0m in \u001b[0;36m_validate_data\u001b[0;34m(self, X, y, reset, validate_separately, **check_params)\u001b[0m\n\u001b[1;32m    586\u001b[0m \u001b[0;34m\u001b[0m\u001b[0m\n\u001b[1;32m    587\u001b[0m         \u001b[0;32mif\u001b[0m \u001b[0;32mnot\u001b[0m \u001b[0mno_val_X\u001b[0m \u001b[0;32mand\u001b[0m \u001b[0mcheck_params\u001b[0m\u001b[0;34m.\u001b[0m\u001b[0mget\u001b[0m\u001b[0;34m(\u001b[0m\u001b[0;34m\"ensure_2d\"\u001b[0m\u001b[0;34m,\u001b[0m \u001b[0;32mTrue\u001b[0m\u001b[0;34m)\u001b[0m\u001b[0;34m:\u001b[0m\u001b[0;34m\u001b[0m\u001b[0;34m\u001b[0m\u001b[0m\n\u001b[0;32m--> 588\u001b[0;31m             \u001b[0mself\u001b[0m\u001b[0;34m.\u001b[0m\u001b[0m_check_n_features\u001b[0m\u001b[0;34m(\u001b[0m\u001b[0mX\u001b[0m\u001b[0;34m,\u001b[0m \u001b[0mreset\u001b[0m\u001b[0;34m=\u001b[0m\u001b[0mreset\u001b[0m\u001b[0;34m)\u001b[0m\u001b[0;34m\u001b[0m\u001b[0;34m\u001b[0m\u001b[0m\n\u001b[0m\u001b[1;32m    589\u001b[0m \u001b[0;34m\u001b[0m\u001b[0m\n\u001b[1;32m    590\u001b[0m         \u001b[0;32mreturn\u001b[0m \u001b[0mout\u001b[0m\u001b[0;34m\u001b[0m\u001b[0;34m\u001b[0m\u001b[0m\n",
            "\u001b[0;32m/usr/local/lib/python3.10/dist-packages/sklearn/base.py\u001b[0m in \u001b[0;36m_check_n_features\u001b[0;34m(self, X, reset)\u001b[0m\n\u001b[1;32m    387\u001b[0m \u001b[0;34m\u001b[0m\u001b[0m\n\u001b[1;32m    388\u001b[0m         \u001b[0;32mif\u001b[0m \u001b[0mn_features\u001b[0m \u001b[0;34m!=\u001b[0m \u001b[0mself\u001b[0m\u001b[0;34m.\u001b[0m\u001b[0mn_features_in_\u001b[0m\u001b[0;34m:\u001b[0m\u001b[0;34m\u001b[0m\u001b[0;34m\u001b[0m\u001b[0m\n\u001b[0;32m--> 389\u001b[0;31m             raise ValueError(\n\u001b[0m\u001b[1;32m    390\u001b[0m                 \u001b[0;34mf\"X has {n_features} features, but {self.__class__.__name__} \"\u001b[0m\u001b[0;34m\u001b[0m\u001b[0;34m\u001b[0m\u001b[0m\n\u001b[1;32m    391\u001b[0m                 \u001b[0;34mf\"is expecting {self.n_features_in_} features as input.\"\u001b[0m\u001b[0;34m\u001b[0m\u001b[0;34m\u001b[0m\u001b[0m\n",
            "\u001b[0;31mValueError\u001b[0m: X has 4 features, but LinearRegression is expecting 1 features as input."
          ]
        }
      ],
      "source": [
        "data_prediksi = [[100, 2525, 100, 30]]\n",
        "lm.predict(data_prediksi)"
      ]
    },
    {
      "cell_type": "code",
      "execution_count": null,
      "id": "ac550fc4-c063-45b0-9275-4272ccaa71e7",
      "metadata": {
        "id": "ac550fc4-c063-45b0-9275-4272ccaa71e7"
      },
      "outputs": [],
      "source": [
        "rf.predict(data_prediksi)"
      ]
    }
  ],
  "metadata": {
    "kernelspec": {
      "display_name": "Python 3 (ipykernel)",
      "language": "python",
      "name": "python3"
    },
    "language_info": {
      "codemirror_mode": {
        "name": "ipython",
        "version": 3
      },
      "file_extension": ".py",
      "mimetype": "text/x-python",
      "name": "python",
      "nbconvert_exporter": "python",
      "pygments_lexer": "ipython3",
      "version": "3.11.5"
    },
    "colab": {
      "provenance": []
    }
  },
  "nbformat": 4,
  "nbformat_minor": 5
}